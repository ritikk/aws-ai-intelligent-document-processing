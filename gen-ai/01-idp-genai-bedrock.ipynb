{
 "cells": [
  {
   "cell_type": "markdown",
   "id": "3f6e38fc-9f24-4c8f-9e2e-2c120eb68d45",
   "metadata": {},
   "source": [
    "# Augment Intelligent Document Processing with generative AI using Amazon Bedrock\n",
    "---\n",
    "\n",
    "<div class=\"alert alert-block alert-info\"> \n",
    "    <b>NOTE:</b> You will need to use a Jupyter Kernel with Python 3.9 or above to use this notebook. If you are in Amazon SageMaker Studio, you can use the `Data Science 3.0` image.\n",
    "</div>\n",
    "\n",
    "<div class=\"alert alert-block alert-warning\"> \n",
    "    <b>NOTE:</b> You will need 3rd party model access to Anthropic Claude V1 model to be able to run this notebook. Verify if you have access to the model by going to <a href=\"https://console.aws.amazon.com/bedrock\" target=\"_blank\">Amazon Bedrock console</a> > left menu \"Model access\". The \"Access status\" for Anthropic Claude must be in \"Access granted\" status in green. If you do not have access, then click \"Edit\" button on the top right > select the model checkbox > click \"Save changes\" button at the bottom. You should have access to the model within a few moments.\n",
    "</div>\n",
    "\n",
    "In this notebook, we demonstrate how you can integrate Amazon Textract with LangChain as a document loader to extract data from documents and use generative AI capabilities within the various IDP phases. We will perform the following with different LLMs.\n",
    "\n",
    "- Classification\n",
    "- Summarization\n",
    "- Standardization\n",
    "- Spell check corrections"
   ]
  },
  {
   "cell_type": "code",
   "execution_count": 1,
   "id": "06c12c62-2259-48b9-8148-70a540c28ae5",
   "metadata": {
    "scrolled": true,
    "tags": []
   },
   "outputs": [
    {
     "name": "stdout",
     "output_type": "stream",
     "text": [
      "Requirement already satisfied: boto3 in /opt/conda/lib/python3.10/site-packages (1.34.56)\n",
      "Requirement already satisfied: langchain in /opt/conda/lib/python3.10/site-packages (0.1.11)\n",
      "Requirement already satisfied: faiss-cpu in /opt/conda/lib/python3.10/site-packages (1.8.0)\n",
      "Requirement already satisfied: transformers in /opt/conda/lib/python3.10/site-packages (4.38.2)\n",
      "Requirement already satisfied: langchain-anthropic in /opt/conda/lib/python3.10/site-packages (0.1.3)\n",
      "Requirement already satisfied: botocore<1.35.0,>=1.34.56 in /opt/conda/lib/python3.10/site-packages (from boto3) (1.34.56)\n",
      "Requirement already satisfied: jmespath<2.0.0,>=0.7.1 in /opt/conda/lib/python3.10/site-packages (from boto3) (1.0.1)\n",
      "Requirement already satisfied: s3transfer<0.11.0,>=0.10.0 in /opt/conda/lib/python3.10/site-packages (from boto3) (0.10.0)\n",
      "Requirement already satisfied: PyYAML>=5.3 in /opt/conda/lib/python3.10/site-packages (from langchain) (6.0.1)\n",
      "Requirement already satisfied: SQLAlchemy<3,>=1.4 in /opt/conda/lib/python3.10/site-packages (from langchain) (2.0.28)\n",
      "Requirement already satisfied: aiohttp<4.0.0,>=3.8.3 in /opt/conda/lib/python3.10/site-packages (from langchain) (3.9.1)\n",
      "Requirement already satisfied: async-timeout<5.0.0,>=4.0.0 in /opt/conda/lib/python3.10/site-packages (from langchain) (4.0.3)\n",
      "Requirement already satisfied: dataclasses-json<0.7,>=0.5.7 in /opt/conda/lib/python3.10/site-packages (from langchain) (0.6.3)\n",
      "Requirement already satisfied: jsonpatch<2.0,>=1.33 in /opt/conda/lib/python3.10/site-packages (from langchain) (1.33)\n",
      "Requirement already satisfied: langchain-community<0.1,>=0.0.25 in /opt/conda/lib/python3.10/site-packages (from langchain) (0.0.25)\n",
      "Requirement already satisfied: langchain-core<0.2,>=0.1.29 in /opt/conda/lib/python3.10/site-packages (from langchain) (0.1.29)\n",
      "Requirement already satisfied: langchain-text-splitters<0.1,>=0.0.1 in /opt/conda/lib/python3.10/site-packages (from langchain) (0.0.1)\n",
      "Requirement already satisfied: langsmith<0.2.0,>=0.1.17 in /opt/conda/lib/python3.10/site-packages (from langchain) (0.1.21)\n",
      "Requirement already satisfied: numpy<2,>=1 in /opt/conda/lib/python3.10/site-packages (from langchain) (1.26.3)\n",
      "Requirement already satisfied: pydantic<3,>=1 in /opt/conda/lib/python3.10/site-packages (from langchain) (1.10.13)\n",
      "Requirement already satisfied: requests<3,>=2 in /opt/conda/lib/python3.10/site-packages (from langchain) (2.31.0)\n",
      "Requirement already satisfied: tenacity<9.0.0,>=8.1.0 in /opt/conda/lib/python3.10/site-packages (from langchain) (8.2.3)\n",
      "Requirement already satisfied: filelock in /opt/conda/lib/python3.10/site-packages (from transformers) (3.13.1)\n",
      "Requirement already satisfied: huggingface-hub<1.0,>=0.19.3 in /opt/conda/lib/python3.10/site-packages (from transformers) (0.20.2)\n",
      "Requirement already satisfied: packaging>=20.0 in /opt/conda/lib/python3.10/site-packages (from transformers) (23.2)\n",
      "Requirement already satisfied: regex!=2019.12.17 in /opt/conda/lib/python3.10/site-packages (from transformers) (2023.12.25)\n",
      "Requirement already satisfied: tokenizers<0.19,>=0.14 in /opt/conda/lib/python3.10/site-packages (from transformers) (0.15.2)\n",
      "Requirement already satisfied: safetensors>=0.4.1 in /opt/conda/lib/python3.10/site-packages (from transformers) (0.4.2)\n",
      "Requirement already satisfied: tqdm>=4.27 in /opt/conda/lib/python3.10/site-packages (from transformers) (4.66.1)\n",
      "Requirement already satisfied: anthropic<1,>=0.17.0 in /opt/conda/lib/python3.10/site-packages (from langchain-anthropic) (0.18.1)\n",
      "Requirement already satisfied: defusedxml<0.8.0,>=0.7.1 in /opt/conda/lib/python3.10/site-packages (from langchain-anthropic) (0.7.1)\n",
      "Requirement already satisfied: attrs>=17.3.0 in /opt/conda/lib/python3.10/site-packages (from aiohttp<4.0.0,>=3.8.3->langchain) (23.2.0)\n",
      "Requirement already satisfied: multidict<7.0,>=4.5 in /opt/conda/lib/python3.10/site-packages (from aiohttp<4.0.0,>=3.8.3->langchain) (6.0.4)\n",
      "Requirement already satisfied: yarl<2.0,>=1.0 in /opt/conda/lib/python3.10/site-packages (from aiohttp<4.0.0,>=3.8.3->langchain) (1.9.4)\n",
      "Requirement already satisfied: frozenlist>=1.1.1 in /opt/conda/lib/python3.10/site-packages (from aiohttp<4.0.0,>=3.8.3->langchain) (1.4.1)\n",
      "Requirement already satisfied: aiosignal>=1.1.2 in /opt/conda/lib/python3.10/site-packages (from aiohttp<4.0.0,>=3.8.3->langchain) (1.3.1)\n",
      "Requirement already satisfied: anyio<5,>=3.5.0 in /opt/conda/lib/python3.10/site-packages (from anthropic<1,>=0.17.0->langchain-anthropic) (3.7.1)\n",
      "Requirement already satisfied: distro<2,>=1.7.0 in /opt/conda/lib/python3.10/site-packages (from anthropic<1,>=0.17.0->langchain-anthropic) (1.9.0)\n",
      "Requirement already satisfied: httpx<1,>=0.23.0 in /opt/conda/lib/python3.10/site-packages (from anthropic<1,>=0.17.0->langchain-anthropic) (0.27.0)\n",
      "Requirement already satisfied: sniffio in /opt/conda/lib/python3.10/site-packages (from anthropic<1,>=0.17.0->langchain-anthropic) (1.3.0)\n",
      "Requirement already satisfied: typing-extensions<5,>=4.7 in /opt/conda/lib/python3.10/site-packages (from anthropic<1,>=0.17.0->langchain-anthropic) (4.10.0)\n",
      "Requirement already satisfied: python-dateutil<3.0.0,>=2.1 in /opt/conda/lib/python3.10/site-packages (from botocore<1.35.0,>=1.34.56->boto3) (2.8.2)\n",
      "Requirement already satisfied: urllib3<2.1,>=1.25.4 in /opt/conda/lib/python3.10/site-packages (from botocore<1.35.0,>=1.34.56->boto3) (1.26.18)\n",
      "Requirement already satisfied: marshmallow<4.0.0,>=3.18.0 in /opt/conda/lib/python3.10/site-packages (from dataclasses-json<0.7,>=0.5.7->langchain) (3.20.2)\n",
      "Requirement already satisfied: typing-inspect<1,>=0.4.0 in /opt/conda/lib/python3.10/site-packages (from dataclasses-json<0.7,>=0.5.7->langchain) (0.9.0)\n",
      "Requirement already satisfied: fsspec>=2023.5.0 in /opt/conda/lib/python3.10/site-packages (from huggingface-hub<1.0,>=0.19.3->transformers) (2023.6.0)\n",
      "Requirement already satisfied: jsonpointer>=1.9 in /opt/conda/lib/python3.10/site-packages (from jsonpatch<2.0,>=1.33->langchain) (2.4)\n",
      "Requirement already satisfied: orjson<4.0.0,>=3.9.14 in /opt/conda/lib/python3.10/site-packages (from langsmith<0.2.0,>=0.1.17->langchain) (3.9.15)\n",
      "Requirement already satisfied: charset-normalizer<4,>=2 in /opt/conda/lib/python3.10/site-packages (from requests<3,>=2->langchain) (3.3.2)\n",
      "Requirement already satisfied: idna<4,>=2.5 in /opt/conda/lib/python3.10/site-packages (from requests<3,>=2->langchain) (3.6)\n",
      "Requirement already satisfied: certifi>=2017.4.17 in /opt/conda/lib/python3.10/site-packages (from requests<3,>=2->langchain) (2023.11.17)\n",
      "Requirement already satisfied: greenlet!=0.4.17 in /opt/conda/lib/python3.10/site-packages (from SQLAlchemy<3,>=1.4->langchain) (3.0.1)\n",
      "Requirement already satisfied: exceptiongroup in /opt/conda/lib/python3.10/site-packages (from anyio<5,>=3.5.0->anthropic<1,>=0.17.0->langchain-anthropic) (1.2.0)\n",
      "Requirement already satisfied: httpcore==1.* in /opt/conda/lib/python3.10/site-packages (from httpx<1,>=0.23.0->anthropic<1,>=0.17.0->langchain-anthropic) (1.0.4)\n",
      "Requirement already satisfied: h11<0.15,>=0.13 in /opt/conda/lib/python3.10/site-packages (from httpcore==1.*->httpx<1,>=0.23.0->anthropic<1,>=0.17.0->langchain-anthropic) (0.14.0)\n",
      "Requirement already satisfied: six>=1.5 in /opt/conda/lib/python3.10/site-packages (from python-dateutil<3.0.0,>=2.1->botocore<1.35.0,>=1.34.56->boto3) (1.16.0)\n",
      "Requirement already satisfied: mypy-extensions>=0.3.0 in /opt/conda/lib/python3.10/site-packages (from typing-inspect<1,>=0.4.0->dataclasses-json<0.7,>=0.5.7->langchain) (1.0.0)\n",
      "Requirement already satisfied: amazon-textract-textractor in /opt/conda/lib/python3.10/site-packages (1.7.4)\n",
      "Requirement already satisfied: pypdf in /opt/conda/lib/python3.10/site-packages (4.1.0)\n",
      "Requirement already satisfied: Pillow in /opt/conda/lib/python3.10/site-packages (9.5.0)\n",
      "Requirement already satisfied: transformers in /opt/conda/lib/python3.10/site-packages (4.38.2)\n",
      "Requirement already satisfied: XlsxWriter<4,>=3.0 in /opt/conda/lib/python3.10/site-packages (from amazon-textract-textractor) (3.2.0)\n",
      "Requirement already satisfied: amazon-textract-caller<2,>=0.0.27 in /opt/conda/lib/python3.10/site-packages (from amazon-textract-textractor) (0.2.2)\n",
      "Requirement already satisfied: editdistance==0.6.2 in /opt/conda/lib/python3.10/site-packages (from amazon-textract-textractor) (0.6.2)\n",
      "Requirement already satisfied: tabulate<0.10,>=0.9 in /opt/conda/lib/python3.10/site-packages (from amazon-textract-textractor) (0.9.0)\n",
      "Requirement already satisfied: filelock in /opt/conda/lib/python3.10/site-packages (from transformers) (3.13.1)\n",
      "Requirement already satisfied: huggingface-hub<1.0,>=0.19.3 in /opt/conda/lib/python3.10/site-packages (from transformers) (0.20.2)\n",
      "Requirement already satisfied: numpy>=1.17 in /opt/conda/lib/python3.10/site-packages (from transformers) (1.26.3)\n",
      "Requirement already satisfied: packaging>=20.0 in /opt/conda/lib/python3.10/site-packages (from transformers) (23.2)\n",
      "Requirement already satisfied: pyyaml>=5.1 in /opt/conda/lib/python3.10/site-packages (from transformers) (6.0.1)\n",
      "Requirement already satisfied: regex!=2019.12.17 in /opt/conda/lib/python3.10/site-packages (from transformers) (2023.12.25)\n",
      "Requirement already satisfied: requests in /opt/conda/lib/python3.10/site-packages (from transformers) (2.31.0)\n",
      "Requirement already satisfied: tokenizers<0.19,>=0.14 in /opt/conda/lib/python3.10/site-packages (from transformers) (0.15.2)\n",
      "Requirement already satisfied: safetensors>=0.4.1 in /opt/conda/lib/python3.10/site-packages (from transformers) (0.4.2)\n",
      "Requirement already satisfied: tqdm>=4.27 in /opt/conda/lib/python3.10/site-packages (from transformers) (4.66.1)\n",
      "Requirement already satisfied: boto3>=1.26.35 in /opt/conda/lib/python3.10/site-packages (from amazon-textract-caller<2,>=0.0.27->amazon-textract-textractor) (1.34.56)\n",
      "Requirement already satisfied: botocore in /opt/conda/lib/python3.10/site-packages (from amazon-textract-caller<2,>=0.0.27->amazon-textract-textractor) (1.34.56)\n",
      "Requirement already satisfied: amazon-textract-response-parser>=0.1.39 in /opt/conda/lib/python3.10/site-packages (from amazon-textract-caller<2,>=0.0.27->amazon-textract-textractor) (0.1.48)\n",
      "Requirement already satisfied: fsspec>=2023.5.0 in /opt/conda/lib/python3.10/site-packages (from huggingface-hub<1.0,>=0.19.3->transformers) (2023.6.0)\n",
      "Requirement already satisfied: typing-extensions>=3.7.4.3 in /opt/conda/lib/python3.10/site-packages (from huggingface-hub<1.0,>=0.19.3->transformers) (4.10.0)\n",
      "Requirement already satisfied: charset-normalizer<4,>=2 in /opt/conda/lib/python3.10/site-packages (from requests->transformers) (3.3.2)\n",
      "Requirement already satisfied: idna<4,>=2.5 in /opt/conda/lib/python3.10/site-packages (from requests->transformers) (3.6)\n",
      "Requirement already satisfied: urllib3<3,>=1.21.1 in /opt/conda/lib/python3.10/site-packages (from requests->transformers) (1.26.18)\n",
      "Requirement already satisfied: certifi>=2017.4.17 in /opt/conda/lib/python3.10/site-packages (from requests->transformers) (2023.11.17)\n",
      "Requirement already satisfied: marshmallow<4,>=3.14 in /opt/conda/lib/python3.10/site-packages (from amazon-textract-response-parser>=0.1.39->amazon-textract-caller<2,>=0.0.27->amazon-textract-textractor) (3.20.2)\n",
      "Requirement already satisfied: jmespath<2.0.0,>=0.7.1 in /opt/conda/lib/python3.10/site-packages (from boto3>=1.26.35->amazon-textract-caller<2,>=0.0.27->amazon-textract-textractor) (1.0.1)\n",
      "Requirement already satisfied: s3transfer<0.11.0,>=0.10.0 in /opt/conda/lib/python3.10/site-packages (from boto3>=1.26.35->amazon-textract-caller<2,>=0.0.27->amazon-textract-textractor) (0.10.0)\n",
      "Requirement already satisfied: python-dateutil<3.0.0,>=2.1 in /opt/conda/lib/python3.10/site-packages (from botocore->amazon-textract-caller<2,>=0.0.27->amazon-textract-textractor) (2.8.2)\n",
      "Requirement already satisfied: six>=1.5 in /opt/conda/lib/python3.10/site-packages (from python-dateutil<3.0.0,>=2.1->botocore->amazon-textract-caller<2,>=0.0.27->amazon-textract-textractor) (1.16.0)\n"
     ]
    }
   ],
   "source": [
    "!pip install -U boto3 langchain faiss-cpu transformers langchain-anthropic\n",
    "!pip install amazon-textract-textractor pypdf Pillow transformers"
   ]
  },
  {
   "cell_type": "code",
   "execution_count": 2,
   "id": "10bd886e-d953-4b0e-81a1-54d72847b8f2",
   "metadata": {
    "tags": []
   },
   "outputs": [
    {
     "name": "stdout",
     "output_type": "stream",
     "text": [
      "sagemaker.config INFO - Not applying SDK defaults from location: /etc/xdg/sagemaker/config.yaml\n",
      "sagemaker.config INFO - Not applying SDK defaults from location: /home/sagemaker-user/.config/sagemaker/config.yaml\n",
      "sagemaker.config INFO - Not applying SDK defaults from location: /etc/xdg/sagemaker/config.yaml\n",
      "sagemaker.config INFO - Not applying SDK defaults from location: /home/sagemaker-user/.config/sagemaker/config.yaml\n",
      "sagemaker.config INFO - Not applying SDK defaults from location: /etc/xdg/sagemaker/config.yaml\n",
      "sagemaker.config INFO - Not applying SDK defaults from location: /home/sagemaker-user/.config/sagemaker/config.yaml\n",
      "SageMaker bucket is sagemaker-us-east-2-364001846372, and SageMaker Execution Role is arn:aws:iam::364001846372:role/aws-idp-workshop-SageMakerExecutionRole-onv4uhuHNlPZ\n"
     ]
    }
   ],
   "source": [
    "import json\n",
    "import os\n",
    "import sys\n",
    "import sagemaker\n",
    "import boto3\n",
    "\n",
    "role = sagemaker.get_execution_role()\n",
    "data_bucket = sagemaker.Session().default_bucket()\n",
    "bedrock = boto3.client('bedrock-runtime', region_name='us-west-2')\n",
    "s3 = boto3.client(\"s3\")\n",
    "print(f\"SageMaker bucket is {data_bucket}, and SageMaker Execution Role is {role}\")"
   ]
  },
  {
   "cell_type": "markdown",
   "id": "5f3b0ee4-b856-4718-992e-99390f56068e",
   "metadata": {},
   "source": [
    "## 1. Classification\n",
    "---\n",
    "\n",
    "Classify a document based on it's content, given a list of classes."
   ]
  },
  {
   "cell_type": "code",
   "execution_count": 3,
   "id": "5641327d-e375-4c03-ac1e-96704bcdbd89",
   "metadata": {
    "tags": []
   },
   "outputs": [
    {
     "name": "stderr",
     "output_type": "stream",
     "text": [
      "/opt/conda/lib/python3.10/site-packages/langchain_core/_api/deprecation.py:117: LangChainDeprecationWarning: The function `run` was deprecated in LangChain 0.1.0 and will be removed in 0.2.0. Use invoke instead.\n",
      "  warn_deprecated(\n"
     ]
    },
    {
     "name": "stdout",
     "output_type": "stream",
     "text": [
      "The provided document is =  DISCHARGE_SUMMARY\n"
     ]
    }
   ],
   "source": [
    "from langchain.document_loaders import AmazonTextractPDFLoader\n",
    "from langchain.llms import Bedrock\n",
    "from langchain.prompts import PromptTemplate\n",
    "from langchain.chains import LLMChain\n",
    "\n",
    "loader = AmazonTextractPDFLoader(\"./samples/discharge-summary.png\")\n",
    "document = loader.load()\n",
    "\n",
    "template = \"\"\"\n",
    "\n",
    "Given a list of classes, classify the document into one of these classes. Skip any preamble text and just give the class name.\n",
    "\n",
    "<classes>DISCHARGE_SUMMARY, RECEIPT, PRESCRIPTION</classes>\n",
    "<document>{doc_text}<document>\n",
    "<classification>\"\"\"\n",
    "\n",
    "prompt = PromptTemplate(template=template, input_variables=[\"doc_text\"])\n",
    "bedrock_llm = Bedrock(client=bedrock, model_id=\"anthropic.claude-instant-v1\")\n",
    "\n",
    "llm_chain = LLMChain(prompt=prompt, llm=bedrock_llm)\n",
    "class_name = llm_chain.run(document[0].page_content)\n",
    "\n",
    "print(f\"The provided document is = {class_name}\")\n",
    "\n"
   ]
  },
  {
   "cell_type": "markdown",
   "id": "ed904147-9ed1-4db1-81ee-5a433624b204",
   "metadata": {},
   "source": [
    "## 2. Summarization\n",
    "---\n",
    "\n",
    "Summarize large pieces of text from a document into smaller, more coincise explanations. In this block we will perform a single page summary."
   ]
  },
  {
   "cell_type": "code",
   "execution_count": 4,
   "id": "4212bb6d-9069-4f34-a684-4d7d1750e6a6",
   "metadata": {
    "tags": []
   },
   "outputs": [
    {
     "name": "stdout",
     "output_type": "stream",
     "text": [
      "35 year old male presented with a 2 month history of epigastric abdominal pain described as gnawing and burning. The pain was intermittent and would last 1-2 hours. It had gotten progressively worse and was no longer relieved by antacids. He also reported nausea, fatigue, and bloating after eating. Exams and tests showed Helicobacter pylori infection and mild gastritis. He was treated with antibiotics and a proton pump inhibitor with improvement of symptoms. Diet and lifestyle modifications were recommended.\n"
     ]
    }
   ],
   "source": [
    "from langchain.document_loaders import AmazonTextractPDFLoader\n",
    "from langchain.llms import Bedrock\n",
    "from langchain.prompts import PromptTemplate\n",
    "from langchain.chains import LLMChain\n",
    "\n",
    "loader = AmazonTextractPDFLoader(\"./samples/discharge-summary.png\")\n",
    "document = loader.load()\n",
    "\n",
    "template = \"\"\"\n",
    "\n",
    "Given a full document, give me a concise summary. Skip any preamble text and just give the summary.\n",
    "\n",
    "<document>{doc_text}</document>\n",
    "<summary>\"\"\"\n",
    "\n",
    "prompt = PromptTemplate(template=template, input_variables=[\"doc_text\"])\n",
    "bedrock_llm = Bedrock(client=bedrock, model_id=\"anthropic.claude-instant-v1\")\n",
    "\n",
    "llm_chain = LLMChain(prompt=prompt, llm=bedrock_llm)\n",
    "summary = llm_chain.run(document[0].page_content)\n",
    "\n",
    "print(summary.replace(\"</summary>\",\"\").strip())"
   ]
  },
  {
   "cell_type": "markdown",
   "id": "3ae4d20a-eef5-4147-ac82-647ee44ed467",
   "metadata": {},
   "source": [
    "### Multi-page summarization\n",
    "\n",
    "We will now attempt to summarize a multi-page document. In order to extract a multi-page PDF we first need to upload it to an S3 bucket."
   ]
  },
  {
   "cell_type": "code",
   "execution_count": 5,
   "id": "c032d517-9601-4d9e-bf36-1608b8355488",
   "metadata": {
    "tags": []
   },
   "outputs": [
    {
     "name": "stdout",
     "output_type": "stream",
     "text": [
      "upload: samples/health_plan.pdf to s3://sagemaker-us-east-2-364001846372/bedrock-sample/health_plan.pdf\n"
     ]
    }
   ],
   "source": [
    "!aws s3 cp ./samples/health_plan.pdf s3://{data_bucket}/bedrock-sample/health_plan.pdf"
   ]
  },
  {
   "cell_type": "code",
   "execution_count": 6,
   "id": "dfe00801-d6a5-4b14-85f4-f403d3ec3b02",
   "metadata": {
    "scrolled": true,
    "tags": []
   },
   "outputs": [
    {
     "data": {
      "text/plain": [
       "[Document(page_content='Health Benefit Summary Plan Description\\n\\n\\nRevised 01-01-2022\\n\\n\\nBENEFITS\\n\\n\\nHealthcare Policy Plan\\n\\n\\nVision: To provide high quality, affordable healthcare for all citizens.\\n\\n\\nMission: To implement policy reforms and programs that expand access to healthcare, reduce costs, and\\n\\n\\nimprove health outcomes.\\n\\n\\nGoals:\\n\\n\\n1. Achieve universal healthcare coverage. Provide health insurance for all citizens regardless of income\\n\\n\\nor health status.\\n\\n\\n2. Reduce healthcare costs for individuals and government. Implement policies and programs to lower\\n\\n\\npremiums, out-of-pocket costs, and overall healthcare spending.\\n\\n\\n3. Improve population health. Invest in public health programs and prevention to promote healthy\\n\\n\\nlifestyles, reduce health risks, and improve health outcomes.\\n\\n\\n4. Support healthcare innovation. Invest in research and new technologies to improve treatments, cures,\\n\\n\\nand the healthcare system.\\n\\n\\nPolicy Reforms:\\n\\n\\n1. Establish a public healthcare option. Provide a government-run health plan to compete with private\\n\\n\\ninsurers and drive down costs.\\n\\n\\n2. Expand Medicaid coverage. Increase income eligibility limits for Medicaid to extend coverage to more\\n\\n\\nlow-income individuals.\\n\\n\\n3. Require insurance companies to cover pre-existing conditions. Prohibit denial of coverage or higher\\n\\n\\npremiums due to health status.\\n\\n\\n4. Increase healthcare subsidies and tax credits. Make health insurance more affordable for middle-\\n\\n\\nincome individuals and families.\\n\\n\\n5. Invest in preventive care and public health. Increase\\n', metadata={'source': 's3://sagemaker-us-east-2-364001846372/bedrock-sample/health_plan.pdf', 'page': 1}),\n",
       " Document(page_content='The purpose of this document is to provide You and Your covered Dependents, if any, with summary\\n\\n\\ninformation in English on benefits available under this Plan as well as with information on a Covered\\n\\n\\nPerson\\'s rights and obligations under the ANYCOMPANY, INC. Group Health Benefit Plan (the \"Plan\").\\n\\n\\nYou are a valued Employee of ANYCOMPANY, INC., and Your employer is pleased to sponsor this Plan\\n\\n\\nto provide benefits that can help meet Your health care needs. Please read this document carefully and\\n\\n\\ncontact Your Human Resources or Personnel office if You have questions or if You have difficulty\\n\\n\\ntranslating this document.\\n\\n\\nANYCOMPANY, INC. is named the Plan Administrator for this Plan. The Plan Administrator has retained\\n\\n\\nthe services of independent Third Party Administrators to process claims and handle other duties for this\\n\\n\\nself-funded Plan. The Third Party Administrators for this Plan are UMR, Inc. (hereinafter \"UMR\") for\\n\\n\\nmedical claims, and Express Scripts for pharmacy claims. The Third Party Administrators do not assume\\n\\n\\nliability for benefits payable under this Plan, since they are solely claims-paying agents for the Plan\\n\\n\\nAdministrator.\\n\\n\\nThe employer assumes the sole responsibility for funding the Plan benefits out of general assets;\\n\\n\\nhowever, Employees help cover some of the costs of covered benefits through contributions, Deductibles,\\n\\n\\nout-of-pocket amounts, and Plan Participation amounts as described in the Schedule of Benefits. All claim\\n\\n\\npayments and reimbursements are paid out of the general assets of the employer and there is no\\n\\n\\nseparate fund that is used to pay promised benefits. The Plan is intended to comply with and be governed\\n\\n\\nby the Employee Retirement Income Security Act of 1974 (ERISA) and its amendments.\\n\\n\\nSome of the terms used in this document begin with capital letters, even though such terms normally\\n\\n\\nwould not be capitalized. These terms have special meaning under the Plan. Most capitalized terms are\\n\\n\\nlisted in the Glossary of Terms, but some are defined within the provisions in which they are used.\\n\\n\\nBecoming familiar with the terms defined in the Glossary of Terms will help You to better understand the\\n\\n\\nprovisions of this Plan.\\n\\n\\nEach individual covered under this Plan will be receiving an identification card that he or she may present\\n\\n\\nto providers whenever he or she receives services. On the back of this card are phone numbers to call in\\n\\n\\ncase of questions or problems.\\n\\n\\nThis document contains information on the benefits and limitations of the Plan and will serve as both the\\n\\n\\nSummary Plan Description (SPD) and Plan document. Therefore it will be referred to as both the SPD\\n\\n\\nand the Plan document. It is being furnished to You in accordance with ABC.\\n\\n\\nThis document became effective on January 1, 2019.\\n\\n\\nPLAN INFORMATION Plan Name\\n\\n\\nANYCOMPANY INC\\n\\n\\nName And Address Of Employer\\n\\n\\nANYCOMPANY, INC\\n\\n\\n123 ANY STREET ANY CITY CA, 92127\\n\\n\\nName, Address, And Phone Number\\n\\n\\nANYCOMPANY, INC\\n\\n\\nOf Plan Administrator\\n\\n\\n123 ANY STREET ANY CITY CA, 92127\\n\\n\\n866-648-0044\\n\\n\\nNamed Fiduciary\\n\\n\\nANYCOMPANY, INC.\\n\\n\\nClaims Appeal Fiduciary For Medical Claims\\n\\n\\nUMR\\n\\n\\nEmployer Identification Number Assigned By\\n\\n\\n12-34567890\\n\\n\\nThe IRS\\n\\n\\nPlan Number Assigned By The Plan\\n\\n\\n511\\n\\n\\nType Of Benefit Plan Provided\\n\\n\\nSelf-funded Health and Welfare Plan providing\\n\\n\\ngroup health benefits.\\n', metadata={'source': 's3://sagemaker-us-east-2-364001846372/bedrock-sample/health_plan.pdf', 'page': 2}),\n",
       " Document(page_content=\"Type Of Administration\\n\\n\\nThe administration of the Plan is under the\\n\\n\\nsupervision of the Plan Administrator. The Plan\\n\\n\\nis not financed by an insurance company and\\n\\n\\nbenefits are not guaranteed by a contract of\\n\\n\\ninsurance.\\n\\n\\nName And Address Of Agent For Service Of\\n\\n\\nANYCOMPANY, INC\\n\\n\\nLegal Process\\n\\n\\n123 ANY STREET ANY CITY CA, 92127\\n\\n\\nFunding Of The Plan\\n\\n\\nEmployer and Employee Contributions\\n\\n\\nBenefits are provided by a benefit Plan\\n\\n\\nmaintained on a self-insured basis by Your\\n\\n\\nemployer.\\n\\n\\nBenefit Plan Year\\n\\n\\nBenefits begin on January 1 and end on the\\n\\n\\nfollowing December 31. For new Employees\\n\\n\\nand Dependents, a Benefit Plan Year begins on\\n\\n\\nthe individual's Effective Date and runs through\\n\\n\\nDecember 31 of the same Benefit Plan Year.\\n\\n\\nPlan Year\\n\\n\\nJanuary 1 through December 31\\n\\n\\nAnd Other Federal Compliance\\n\\n\\nIt is intended that this Plan comply with all\\n\\n\\napplicable requirements of ABC and other\\n\\n\\nfederal regulations. In the event of any conflict\\n\\n\\nbetween this Plan and ABC or other federal\\n\\n\\nregulations, the provisions of ABC and the\\n\\n\\nfederal regulations will be deemed controlling,\\n\\n\\nand any conflicting part of this Plan will be\\n\\n\\ndeemed superseded to the extent of the conflict.\\n\\n\\nBenefit Plan(s) 001\\n\\n\\nAll health benefits shown on this Schedule of Benefits are subject to the following: Deductibles, Co-pays,\\n\\n\\nPlan Participation rates, and out-of-pocket maximums, if any. Refer to the Out-of-Pocket Expenses and\\n\\n\\nMaximums section of this SPD for more details.\\n\\n\\nBenefits listed in this Schedule of Benefits are subject to all provisions of the Plan, including any\\n\\n\\nbenefit determination based on an evaluation of medical facts and covered benefits. Refer to the Covered\\n\\n\\nMedical Benefits and General Exclusions sections of this SPD for more details.\\n\\n\\nImportant: Prior authorization may be required before benefits will be considered for payment. Failure to\\n\\n\\nobtain prior authorization may result in a penalty or increased out-of-pocket costs. Refer to the Care\\n\\n\\nCoordination Process section of this SPD for a description of these services and prior authorization\\n\\n\\nprocedures.\\n\\n\\nNote: Refer to the Provider Network section for clarifications and possible exceptions to the in-network or\\n\\n\\nout-of-network classifications.\\n\\n\\nIf a benefit maximum is listed in the middle of a column on the Schedule of Benefits, it is a combined\\n\\n\\nMaximum Benefit for services that the Covered Person receives from all in-network and out-of-network\\n\\n\\nproviders and facilities. IN-NETWORK\\n\\n\\nAnnual deductible per calendar year per person is $5000 and per family deductible per calendar year is\\n\\n\\n$10,000, and individual embedded deductible is $5000.\\n\", metadata={'source': 's3://sagemaker-us-east-2-364001846372/bedrock-sample/health_plan.pdf', 'page': 3}),\n",
       " Document(page_content=\"Note: Embedded Deductible Means That If You Have Family Coverage, Any Combination Of\\n\\n\\nCovered Family Members May Help Meet The Maximum Family Deductible; However, No One\\n\\n\\nPerson Will Pay More Than His Or Her Embedded Individual Deductible Amount.\\n\\n\\nAnnual Total Out-Of-Pocket Maximum:\\n\\n\\nNote: Medical And Pharmacy Expenses Are Subject To The Same Out-Of-Pocket Maximum.\\n\\n\\nPharmacy out of pocket maximum per person is $6000 and for family out of pocket maximum is $12000\\n\\n\\nNote: Embedded Out-Of-Pocket Maximum Means That If You Have Family Coverage, Any\\n\\n\\nCombination Of Covered Family Members May Help Meet The Family Out-Of-Pocket Maximum;\\n\\n\\nHowever, No One Person Will Pay More Than His Or Her Embedded Individual Out-Of-Pocket\\n\\n\\nMaximum Amount.\\n\\n\\nOUT-OF-POCKET EXPENSES AND MAXIMUMS\\n\\n\\nBenefit Plan(s) 001, 002, 005\\n\\n\\nCO-PAYS\\n\\n\\nA Co-pay is the amount that the Covered Person pays each time certain services are received. The Co-\\n\\n\\npay is typically a flat dollar amount and is paid at the time of service or when billed by the provider. Co-\\n\\n\\npays do not apply toward satisfaction of Deductibles. Co-pays apply toward satisfaction of in-network and\\n\\n\\nout-of-network out-of-pocket maximums. The Co-pay and out-of-pocket maximum are shown on the\\n\\n\\nSchedule of Benefits.\\n\\n\\nDEDUCTIBLES\\n\\n\\nA Deductible is an amount of money paid once per Plan Year by the Covered Person before any Covered\\n\\n\\nExpenses are paid by this Plan. A Deductible applies to each Covered Person up to a family Deductible\\n\\n\\nlimit. When a new Plan Year begins, a new Deductible must be satisfied.\\n\\n\\nDeductible amounts are shown on the Schedule of Benefits.\\n\\n\\nPharmacy expenses do not count toward meeting the Deductible of this Plan. The Deductible amounts\\n\\n\\nthat the Covered Person Incurs for Covered Expenses will be used to satisfy the Deductible(s) shown on\\n\\n\\nthe Schedule of Benefits.\\n\\n\\nThe Deductible amounts that the Covered Person Incurs at an in-network provider will apply to the in-\\n\\n\\nnetwork total individual and family Deductible. The Deductible amounts that the Covered Person Incurs at\\n\\n\\nan out-of-network provider will apply to the out-of-network total individual and family Deductible.\\n\\n\\nPLAN PARTICIPATION\\n\\n\\nPlan Participation is the percentage of Covered Expenses that the Covered Person is responsible for\\n\\n\\npaying after the Deductible is met. The Covered Person pays this percentage until the Covered Person's\\n\\n\\n(or family's, if applicable) annual out-of-pocket maximum is reached. The Plan Participation rate is shown\\n\\n\\non the Schedule of Benefits.\\n\\n\\nAny payment for an expense that is not covered under this Plan will be the Covered Person's\\n\\n\\nresponsibility.\\n\\n\\nANNUAL OUT-OF-POCKET MAXIMUMS\\n\\n\\nThe annual out-of-pocket maximum is the most the Covered Person pays each year for Covered\\n\\n\\nExpenses. There are separate in-network and out-of-network out-of-pocket maximums for this Plan.\\n\\n\\nAnnual out-of-pocket maximums are shown on the Schedule of Benefits. Amounts the Covered Person\\n\\n\\nIncurs for Covered Expenses will be used to satisfy the Covered Person's (or family's, if applicable)\\n\\n\\nannual out-of-pocket maximum(s). If the Covered Person's out-of-pocket expenses in a Plan Year exceed\\n\\n\\nthe annual out-of-pocket maximum, the Plan pays 100% of the Covered Expenses through the end of the\\n\\n\\nPlan Year.\\n\\n\\nThe following will not be used to meet the out-of-pocket maximums:\\n\\n\\n_Penalties, legal fees and interest charged by a provider.\\n\\n\\nAny amounts over the Recognized Amount, Usual and Customary amount, Negotiated Rate or\\n\\n\\nestablished fee schedule that this Plan pays.\\n\", metadata={'source': 's3://sagemaker-us-east-2-364001846372/bedrock-sample/health_plan.pdf', 'page': 4}),\n",
       " Document(page_content='NO FORGIVENESS OF OUT-OF-POCKET EXPENSES\\n\\n\\nThe Covered Person is required to pay the out-of-pocket expenses (including Deductibles, Co-pays or\\n\\n\\nrequired Plan Participation) under the terms of this Plan. The requirement that You and Your\\n\\n\\nDependent(s) pay the applicable out-of-pocket expenses cannot be waived by a provider under any \"fee\\n\\n\\nforgiveness\", \"not out-of-pocket\" or similar arrangement. If a provider waives the required out-of-pocket\\n\\n\\nexpenses, the Covered Person\\'s claim may be denied and the Covered Person will be responsible for\\n\\n\\npayment of the entire claim. The claim(s) may be reconsidered if the Covered Person provides\\n\\n\\nsatisfactory proof that he or she paid the out-of-pocket expenses under the terms of this Plan.\\n\\n\\nOUT-OF-POCKET EXPENSES AND MAXIMUMS\\n\\n\\nBenefit Plan(s) 003, 004\\n\\n\\nDEDUCTIBLES\\n\\n\\nA Deductible is an amount of money paid once per Plan Year by the Covered Person before any Covered\\n\\n\\nExpenses are paid by this Plan. A Deductible applies to each Covered Person up to a family Deductible\\n\\n\\nlimit. When a new Plan Year begins, a new Deductible must be satisfied.\\n\\n\\nDeductible amounts are shown on the Schedule of Benefits. Generally, the applicable Deductible must be\\n\\n\\nmet before any benefits will be paid under this Plan. However, certain covered benefits may be\\n\\n\\nconsidered Preventive / Routine Care and paid first dollar.\\n\\n\\nThe Deductible amounts that the Covered Person Incurs for Covered Expenses, including covered\\n\\n\\nPharmacy expenses, will be used to satisfy the Deductible(s) shown on the Schedule of Benefits.\\n\\n\\nThe Deductible amounts that the Covered Person Incurs at an in-network provider will apply to the in-\\n\\n\\nnetwork total individual and family Deductible. The Deductible amounts that the Covered Person Incurs at\\n\\n\\nan out-of-network provider will apply to the out-of-network total individual and family Deductible.\\n', metadata={'source': 's3://sagemaker-us-east-2-364001846372/bedrock-sample/health_plan.pdf', 'page': 5})]"
      ]
     },
     "execution_count": 6,
     "metadata": {},
     "output_type": "execute_result"
    }
   ],
   "source": [
    "from langchain.document_loaders import AmazonTextractPDFLoader\n",
    "from langchain.llms import Bedrock\n",
    "\n",
    "bedrock_llm = Bedrock(client=bedrock, model_id=\"anthropic.claude-instant-v1\")\n",
    "\n",
    "loader = AmazonTextractPDFLoader(f\"s3://{data_bucket}/bedrock-sample/health_plan.pdf\")\n",
    "document = loader.load()\n",
    "\n",
    "document"
   ]
  },
  {
   "cell_type": "markdown",
   "id": "e988e759-4249-4166-b49b-921ec5f2ad12",
   "metadata": {},
   "source": [
    "We will use LangChain `load_summarize_chain` with a `map_reduce` chain type. For more information on Summarization techniques with LangChain refer to [this document](https://python.langchain.com/docs/use_cases/summarization)."
   ]
  },
  {
   "cell_type": "code",
   "execution_count": 8,
   "id": "d771fcf9-a7af-4161-bdb7-f605c4a4f5ed",
   "metadata": {
    "scrolled": true,
    "tags": []
   },
   "outputs": [
    {
     "ename": "ImportError",
     "evalue": "Could not import anthropic python package. This is needed in order to accurately tokenize the text for anthropic models. Please install it with `pip install anthropic`.",
     "output_type": "error",
     "traceback": [
      "\u001b[0;31m---------------------------------------------------------------------------\u001b[0m",
      "\u001b[0;31mImportError\u001b[0m                               Traceback (most recent call last)",
      "File \u001b[0;32m/opt/conda/lib/python3.10/site-packages/langchain_community/utilities/anthropic.py:6\u001b[0m, in \u001b[0;36m_get_anthropic_client\u001b[0;34m()\u001b[0m\n\u001b[1;32m      5\u001b[0m \u001b[38;5;28;01mtry\u001b[39;00m:\n\u001b[0;32m----> 6\u001b[0m     \u001b[38;5;28;01mimport\u001b[39;00m \u001b[38;5;21;01manthropic\u001b[39;00m\n\u001b[1;32m      7\u001b[0m \u001b[38;5;28;01mexcept\u001b[39;00m \u001b[38;5;167;01mImportError\u001b[39;00m:\n",
      "File \u001b[0;32m/opt/conda/lib/python3.10/site-packages/anthropic/__init__.py:3\u001b[0m\n\u001b[1;32m      1\u001b[0m \u001b[38;5;66;03m# File generated from our OpenAPI spec by Stainless.\u001b[39;00m\n\u001b[0;32m----> 3\u001b[0m \u001b[38;5;28;01mfrom\u001b[39;00m \u001b[38;5;21;01m.\u001b[39;00m \u001b[38;5;28;01mimport\u001b[39;00m types\n\u001b[1;32m      4\u001b[0m \u001b[38;5;28;01mfrom\u001b[39;00m \u001b[38;5;21;01m.\u001b[39;00m\u001b[38;5;21;01m_types\u001b[39;00m \u001b[38;5;28;01mimport\u001b[39;00m NoneType, Transport, ProxiesTypes\n",
      "File \u001b[0;32m/opt/conda/lib/python3.10/site-packages/anthropic/types/__init__.py:5\u001b[0m\n\u001b[1;32m      3\u001b[0m \u001b[38;5;28;01mfrom\u001b[39;00m \u001b[38;5;21;01m__future__\u001b[39;00m \u001b[38;5;28;01mimport\u001b[39;00m annotations\n\u001b[0;32m----> 5\u001b[0m \u001b[38;5;28;01mfrom\u001b[39;00m \u001b[38;5;21;01m.\u001b[39;00m\u001b[38;5;21;01musage\u001b[39;00m \u001b[38;5;28;01mimport\u001b[39;00m Usage \u001b[38;5;28;01mas\u001b[39;00m Usage\n\u001b[1;32m      6\u001b[0m \u001b[38;5;28;01mfrom\u001b[39;00m \u001b[38;5;21;01m.\u001b[39;00m\u001b[38;5;21;01mmessage\u001b[39;00m \u001b[38;5;28;01mimport\u001b[39;00m Message \u001b[38;5;28;01mas\u001b[39;00m Message\n",
      "File \u001b[0;32m/opt/conda/lib/python3.10/site-packages/anthropic/types/usage.py:3\u001b[0m\n\u001b[1;32m      1\u001b[0m \u001b[38;5;66;03m# File generated from our OpenAPI spec by Stainless.\u001b[39;00m\n\u001b[0;32m----> 3\u001b[0m \u001b[38;5;28;01mfrom\u001b[39;00m \u001b[38;5;21;01m.\u001b[39;00m\u001b[38;5;21;01m.\u001b[39;00m\u001b[38;5;21;01m_models\u001b[39;00m \u001b[38;5;28;01mimport\u001b[39;00m BaseModel\n\u001b[1;32m      5\u001b[0m __all__ \u001b[38;5;241m=\u001b[39m [\u001b[38;5;124m\"\u001b[39m\u001b[38;5;124mUsage\u001b[39m\u001b[38;5;124m\"\u001b[39m]\n",
      "File \u001b[0;32m/opt/conda/lib/python3.10/site-packages/anthropic/_models.py:19\u001b[0m\n\u001b[1;32m     18\u001b[0m \u001b[38;5;28;01mimport\u001b[39;00m \u001b[38;5;21;01mpydantic\u001b[39;00m\n\u001b[0;32m---> 19\u001b[0m \u001b[38;5;28;01mimport\u001b[39;00m \u001b[38;5;21;01mpydantic\u001b[39;00m\u001b[38;5;21;01m.\u001b[39;00m\u001b[38;5;21;01mgenerics\u001b[39;00m\n\u001b[1;32m     20\u001b[0m \u001b[38;5;28;01mfrom\u001b[39;00m \u001b[38;5;21;01mpydantic\u001b[39;00m\u001b[38;5;21;01m.\u001b[39;00m\u001b[38;5;21;01mfields\u001b[39;00m \u001b[38;5;28;01mimport\u001b[39;00m FieldInfo\n",
      "File \u001b[0;32m/opt/conda/lib/python3.10/site-packages/pydantic/generics.py:2\u001b[0m\n\u001b[1;32m      1\u001b[0m \u001b[38;5;124;03m\"\"\"The `generics` module is a backport module from V1.\"\"\"\u001b[39;00m\n\u001b[0;32m----> 2\u001b[0m \u001b[38;5;28;01mfrom\u001b[39;00m \u001b[38;5;21;01m.\u001b[39;00m\u001b[38;5;21;01m_migration\u001b[39;00m \u001b[38;5;28;01mimport\u001b[39;00m getattr_migration\n\u001b[1;32m      4\u001b[0m \u001b[38;5;21m__getattr__\u001b[39m \u001b[38;5;241m=\u001b[39m getattr_migration(\u001b[38;5;18m__name__\u001b[39m)\n",
      "File \u001b[0;32m/opt/conda/lib/python3.10/site-packages/pydantic/_migration.py:4\u001b[0m\n\u001b[1;32m      2\u001b[0m \u001b[38;5;28;01mfrom\u001b[39;00m \u001b[38;5;21;01mtyping\u001b[39;00m \u001b[38;5;28;01mimport\u001b[39;00m Any, Callable, Dict\n\u001b[0;32m----> 4\u001b[0m \u001b[38;5;28;01mfrom\u001b[39;00m \u001b[38;5;21;01m.\u001b[39;00m\u001b[38;5;21;01mversion\u001b[39;00m \u001b[38;5;28;01mimport\u001b[39;00m version_short\n\u001b[1;32m      6\u001b[0m MOVED_IN_V2 \u001b[38;5;241m=\u001b[39m {\n\u001b[1;32m      7\u001b[0m     \u001b[38;5;124m'\u001b[39m\u001b[38;5;124mpydantic.utils:version_info\u001b[39m\u001b[38;5;124m'\u001b[39m: \u001b[38;5;124m'\u001b[39m\u001b[38;5;124mpydantic.version:version_info\u001b[39m\u001b[38;5;124m'\u001b[39m,\n\u001b[1;32m      8\u001b[0m     \u001b[38;5;124m'\u001b[39m\u001b[38;5;124mpydantic.error_wrappers:ValidationError\u001b[39m\u001b[38;5;124m'\u001b[39m: \u001b[38;5;124m'\u001b[39m\u001b[38;5;124mpydantic:ValidationError\u001b[39m\u001b[38;5;124m'\u001b[39m,\n\u001b[0;32m   (...)\u001b[0m\n\u001b[1;32m     13\u001b[0m     \u001b[38;5;124m'\u001b[39m\u001b[38;5;124mpydantic.generics:GenericModel\u001b[39m\u001b[38;5;124m'\u001b[39m: \u001b[38;5;124m'\u001b[39m\u001b[38;5;124mpydantic.BaseModel\u001b[39m\u001b[38;5;124m'\u001b[39m,\n\u001b[1;32m     14\u001b[0m }\n",
      "\u001b[0;31mImportError\u001b[0m: cannot import name 'version_short' from 'pydantic.version' (/opt/conda/lib/python3.10/site-packages/pydantic/version.cpython-310-x86_64-linux-gnu.so)",
      "\nDuring handling of the above exception, another exception occurred:\n",
      "\u001b[0;31mImportError\u001b[0m                               Traceback (most recent call last)",
      "Cell \u001b[0;32mIn[8], line 6\u001b[0m\n\u001b[1;32m      1\u001b[0m \u001b[38;5;28;01mfrom\u001b[39;00m \u001b[38;5;21;01mlangchain\u001b[39;00m\u001b[38;5;21;01m.\u001b[39;00m\u001b[38;5;21;01mchains\u001b[39;00m\u001b[38;5;21;01m.\u001b[39;00m\u001b[38;5;21;01msummarize\u001b[39;00m \u001b[38;5;28;01mimport\u001b[39;00m load_summarize_chain\n\u001b[1;32m      3\u001b[0m summary_chain \u001b[38;5;241m=\u001b[39m load_summarize_chain(llm\u001b[38;5;241m=\u001b[39mbedrock_llm, chain_type\u001b[38;5;241m=\u001b[39m\u001b[38;5;124m'\u001b[39m\u001b[38;5;124mmap_reduce\u001b[39m\u001b[38;5;124m'\u001b[39m,\n\u001b[1;32m      4\u001b[0m                                      verbose\u001b[38;5;241m=\u001b[39m\u001b[38;5;28;01mFalse\u001b[39;00m \u001b[38;5;66;03m# Set verbose=True if you want to see the prompts being used\u001b[39;00m\n\u001b[1;32m      5\u001b[0m                                     )\n\u001b[0;32m----> 6\u001b[0m output \u001b[38;5;241m=\u001b[39m \u001b[43msummary_chain\u001b[49m\u001b[38;5;241;43m.\u001b[39;49m\u001b[43mrun\u001b[49m\u001b[43m(\u001b[49m\u001b[43mdocument\u001b[49m\u001b[43m)\u001b[49m\n",
      "File \u001b[0;32m/opt/conda/lib/python3.10/site-packages/langchain_core/_api/deprecation.py:145\u001b[0m, in \u001b[0;36mdeprecated.<locals>.deprecate.<locals>.warning_emitting_wrapper\u001b[0;34m(*args, **kwargs)\u001b[0m\n\u001b[1;32m    143\u001b[0m     warned \u001b[38;5;241m=\u001b[39m \u001b[38;5;28;01mTrue\u001b[39;00m\n\u001b[1;32m    144\u001b[0m     emit_warning()\n\u001b[0;32m--> 145\u001b[0m \u001b[38;5;28;01mreturn\u001b[39;00m \u001b[43mwrapped\u001b[49m\u001b[43m(\u001b[49m\u001b[38;5;241;43m*\u001b[39;49m\u001b[43margs\u001b[49m\u001b[43m,\u001b[49m\u001b[43m \u001b[49m\u001b[38;5;241;43m*\u001b[39;49m\u001b[38;5;241;43m*\u001b[39;49m\u001b[43mkwargs\u001b[49m\u001b[43m)\u001b[49m\n",
      "File \u001b[0;32m/opt/conda/lib/python3.10/site-packages/langchain/chains/base.py:545\u001b[0m, in \u001b[0;36mChain.run\u001b[0;34m(self, callbacks, tags, metadata, *args, **kwargs)\u001b[0m\n\u001b[1;32m    543\u001b[0m     \u001b[38;5;28;01mif\u001b[39;00m \u001b[38;5;28mlen\u001b[39m(args) \u001b[38;5;241m!=\u001b[39m \u001b[38;5;241m1\u001b[39m:\n\u001b[1;32m    544\u001b[0m         \u001b[38;5;28;01mraise\u001b[39;00m \u001b[38;5;167;01mValueError\u001b[39;00m(\u001b[38;5;124m\"\u001b[39m\u001b[38;5;124m`run` supports only one positional argument.\u001b[39m\u001b[38;5;124m\"\u001b[39m)\n\u001b[0;32m--> 545\u001b[0m     \u001b[38;5;28;01mreturn\u001b[39;00m \u001b[38;5;28;43mself\u001b[39;49m\u001b[43m(\u001b[49m\u001b[43margs\u001b[49m\u001b[43m[\u001b[49m\u001b[38;5;241;43m0\u001b[39;49m\u001b[43m]\u001b[49m\u001b[43m,\u001b[49m\u001b[43m \u001b[49m\u001b[43mcallbacks\u001b[49m\u001b[38;5;241;43m=\u001b[39;49m\u001b[43mcallbacks\u001b[49m\u001b[43m,\u001b[49m\u001b[43m \u001b[49m\u001b[43mtags\u001b[49m\u001b[38;5;241;43m=\u001b[39;49m\u001b[43mtags\u001b[49m\u001b[43m,\u001b[49m\u001b[43m \u001b[49m\u001b[43mmetadata\u001b[49m\u001b[38;5;241;43m=\u001b[39;49m\u001b[43mmetadata\u001b[49m\u001b[43m)\u001b[49m[\n\u001b[1;32m    546\u001b[0m         _output_key\n\u001b[1;32m    547\u001b[0m     ]\n\u001b[1;32m    549\u001b[0m \u001b[38;5;28;01mif\u001b[39;00m kwargs \u001b[38;5;129;01mand\u001b[39;00m \u001b[38;5;129;01mnot\u001b[39;00m args:\n\u001b[1;32m    550\u001b[0m     \u001b[38;5;28;01mreturn\u001b[39;00m \u001b[38;5;28mself\u001b[39m(kwargs, callbacks\u001b[38;5;241m=\u001b[39mcallbacks, tags\u001b[38;5;241m=\u001b[39mtags, metadata\u001b[38;5;241m=\u001b[39mmetadata)[\n\u001b[1;32m    551\u001b[0m         _output_key\n\u001b[1;32m    552\u001b[0m     ]\n",
      "File \u001b[0;32m/opt/conda/lib/python3.10/site-packages/langchain_core/_api/deprecation.py:145\u001b[0m, in \u001b[0;36mdeprecated.<locals>.deprecate.<locals>.warning_emitting_wrapper\u001b[0;34m(*args, **kwargs)\u001b[0m\n\u001b[1;32m    143\u001b[0m     warned \u001b[38;5;241m=\u001b[39m \u001b[38;5;28;01mTrue\u001b[39;00m\n\u001b[1;32m    144\u001b[0m     emit_warning()\n\u001b[0;32m--> 145\u001b[0m \u001b[38;5;28;01mreturn\u001b[39;00m \u001b[43mwrapped\u001b[49m\u001b[43m(\u001b[49m\u001b[38;5;241;43m*\u001b[39;49m\u001b[43margs\u001b[49m\u001b[43m,\u001b[49m\u001b[43m \u001b[49m\u001b[38;5;241;43m*\u001b[39;49m\u001b[38;5;241;43m*\u001b[39;49m\u001b[43mkwargs\u001b[49m\u001b[43m)\u001b[49m\n",
      "File \u001b[0;32m/opt/conda/lib/python3.10/site-packages/langchain/chains/base.py:378\u001b[0m, in \u001b[0;36mChain.__call__\u001b[0;34m(self, inputs, return_only_outputs, callbacks, tags, metadata, run_name, include_run_info)\u001b[0m\n\u001b[1;32m    346\u001b[0m \u001b[38;5;250m\u001b[39m\u001b[38;5;124;03m\"\"\"Execute the chain.\u001b[39;00m\n\u001b[1;32m    347\u001b[0m \n\u001b[1;32m    348\u001b[0m \u001b[38;5;124;03mArgs:\u001b[39;00m\n\u001b[0;32m   (...)\u001b[0m\n\u001b[1;32m    369\u001b[0m \u001b[38;5;124;03m        `Chain.output_keys`.\u001b[39;00m\n\u001b[1;32m    370\u001b[0m \u001b[38;5;124;03m\"\"\"\u001b[39;00m\n\u001b[1;32m    371\u001b[0m config \u001b[38;5;241m=\u001b[39m {\n\u001b[1;32m    372\u001b[0m     \u001b[38;5;124m\"\u001b[39m\u001b[38;5;124mcallbacks\u001b[39m\u001b[38;5;124m\"\u001b[39m: callbacks,\n\u001b[1;32m    373\u001b[0m     \u001b[38;5;124m\"\u001b[39m\u001b[38;5;124mtags\u001b[39m\u001b[38;5;124m\"\u001b[39m: tags,\n\u001b[1;32m    374\u001b[0m     \u001b[38;5;124m\"\u001b[39m\u001b[38;5;124mmetadata\u001b[39m\u001b[38;5;124m\"\u001b[39m: metadata,\n\u001b[1;32m    375\u001b[0m     \u001b[38;5;124m\"\u001b[39m\u001b[38;5;124mrun_name\u001b[39m\u001b[38;5;124m\"\u001b[39m: run_name,\n\u001b[1;32m    376\u001b[0m }\n\u001b[0;32m--> 378\u001b[0m \u001b[38;5;28;01mreturn\u001b[39;00m \u001b[38;5;28;43mself\u001b[39;49m\u001b[38;5;241;43m.\u001b[39;49m\u001b[43minvoke\u001b[49m\u001b[43m(\u001b[49m\n\u001b[1;32m    379\u001b[0m \u001b[43m    \u001b[49m\u001b[43minputs\u001b[49m\u001b[43m,\u001b[49m\n\u001b[1;32m    380\u001b[0m \u001b[43m    \u001b[49m\u001b[43mcast\u001b[49m\u001b[43m(\u001b[49m\u001b[43mRunnableConfig\u001b[49m\u001b[43m,\u001b[49m\u001b[43m \u001b[49m\u001b[43m{\u001b[49m\u001b[43mk\u001b[49m\u001b[43m:\u001b[49m\u001b[43m \u001b[49m\u001b[43mv\u001b[49m\u001b[43m \u001b[49m\u001b[38;5;28;43;01mfor\u001b[39;49;00m\u001b[43m \u001b[49m\u001b[43mk\u001b[49m\u001b[43m,\u001b[49m\u001b[43m \u001b[49m\u001b[43mv\u001b[49m\u001b[43m \u001b[49m\u001b[38;5;129;43;01min\u001b[39;49;00m\u001b[43m \u001b[49m\u001b[43mconfig\u001b[49m\u001b[38;5;241;43m.\u001b[39;49m\u001b[43mitems\u001b[49m\u001b[43m(\u001b[49m\u001b[43m)\u001b[49m\u001b[43m \u001b[49m\u001b[38;5;28;43;01mif\u001b[39;49;00m\u001b[43m \u001b[49m\u001b[43mv\u001b[49m\u001b[43m \u001b[49m\u001b[38;5;129;43;01mis\u001b[39;49;00m\u001b[43m \u001b[49m\u001b[38;5;129;43;01mnot\u001b[39;49;00m\u001b[43m \u001b[49m\u001b[38;5;28;43;01mNone\u001b[39;49;00m\u001b[43m}\u001b[49m\u001b[43m)\u001b[49m\u001b[43m,\u001b[49m\n\u001b[1;32m    381\u001b[0m \u001b[43m    \u001b[49m\u001b[43mreturn_only_outputs\u001b[49m\u001b[38;5;241;43m=\u001b[39;49m\u001b[43mreturn_only_outputs\u001b[49m\u001b[43m,\u001b[49m\n\u001b[1;32m    382\u001b[0m \u001b[43m    \u001b[49m\u001b[43minclude_run_info\u001b[49m\u001b[38;5;241;43m=\u001b[39;49m\u001b[43minclude_run_info\u001b[49m\u001b[43m,\u001b[49m\n\u001b[1;32m    383\u001b[0m \u001b[43m\u001b[49m\u001b[43m)\u001b[49m\n",
      "File \u001b[0;32m/opt/conda/lib/python3.10/site-packages/langchain/chains/base.py:163\u001b[0m, in \u001b[0;36mChain.invoke\u001b[0;34m(self, input, config, **kwargs)\u001b[0m\n\u001b[1;32m    161\u001b[0m \u001b[38;5;28;01mexcept\u001b[39;00m \u001b[38;5;167;01mBaseException\u001b[39;00m \u001b[38;5;28;01mas\u001b[39;00m e:\n\u001b[1;32m    162\u001b[0m     run_manager\u001b[38;5;241m.\u001b[39mon_chain_error(e)\n\u001b[0;32m--> 163\u001b[0m     \u001b[38;5;28;01mraise\u001b[39;00m e\n\u001b[1;32m    164\u001b[0m run_manager\u001b[38;5;241m.\u001b[39mon_chain_end(outputs)\n\u001b[1;32m    166\u001b[0m \u001b[38;5;28;01mif\u001b[39;00m include_run_info:\n",
      "File \u001b[0;32m/opt/conda/lib/python3.10/site-packages/langchain/chains/base.py:153\u001b[0m, in \u001b[0;36mChain.invoke\u001b[0;34m(self, input, config, **kwargs)\u001b[0m\n\u001b[1;32m    150\u001b[0m \u001b[38;5;28;01mtry\u001b[39;00m:\n\u001b[1;32m    151\u001b[0m     \u001b[38;5;28mself\u001b[39m\u001b[38;5;241m.\u001b[39m_validate_inputs(inputs)\n\u001b[1;32m    152\u001b[0m     outputs \u001b[38;5;241m=\u001b[39m (\n\u001b[0;32m--> 153\u001b[0m         \u001b[38;5;28;43mself\u001b[39;49m\u001b[38;5;241;43m.\u001b[39;49m\u001b[43m_call\u001b[49m\u001b[43m(\u001b[49m\u001b[43minputs\u001b[49m\u001b[43m,\u001b[49m\u001b[43m \u001b[49m\u001b[43mrun_manager\u001b[49m\u001b[38;5;241;43m=\u001b[39;49m\u001b[43mrun_manager\u001b[49m\u001b[43m)\u001b[49m\n\u001b[1;32m    154\u001b[0m         \u001b[38;5;28;01mif\u001b[39;00m new_arg_supported\n\u001b[1;32m    155\u001b[0m         \u001b[38;5;28;01melse\u001b[39;00m \u001b[38;5;28mself\u001b[39m\u001b[38;5;241m.\u001b[39m_call(inputs)\n\u001b[1;32m    156\u001b[0m     )\n\u001b[1;32m    158\u001b[0m     final_outputs: Dict[\u001b[38;5;28mstr\u001b[39m, Any] \u001b[38;5;241m=\u001b[39m \u001b[38;5;28mself\u001b[39m\u001b[38;5;241m.\u001b[39mprep_outputs(\n\u001b[1;32m    159\u001b[0m         inputs, outputs, return_only_outputs\n\u001b[1;32m    160\u001b[0m     )\n\u001b[1;32m    161\u001b[0m \u001b[38;5;28;01mexcept\u001b[39;00m \u001b[38;5;167;01mBaseException\u001b[39;00m \u001b[38;5;28;01mas\u001b[39;00m e:\n",
      "File \u001b[0;32m/opt/conda/lib/python3.10/site-packages/langchain/chains/combine_documents/base.py:137\u001b[0m, in \u001b[0;36mBaseCombineDocumentsChain._call\u001b[0;34m(self, inputs, run_manager)\u001b[0m\n\u001b[1;32m    135\u001b[0m \u001b[38;5;66;03m# Other keys are assumed to be needed for LLM prediction\u001b[39;00m\n\u001b[1;32m    136\u001b[0m other_keys \u001b[38;5;241m=\u001b[39m {k: v \u001b[38;5;28;01mfor\u001b[39;00m k, v \u001b[38;5;129;01min\u001b[39;00m inputs\u001b[38;5;241m.\u001b[39mitems() \u001b[38;5;28;01mif\u001b[39;00m k \u001b[38;5;241m!=\u001b[39m \u001b[38;5;28mself\u001b[39m\u001b[38;5;241m.\u001b[39minput_key}\n\u001b[0;32m--> 137\u001b[0m output, extra_return_dict \u001b[38;5;241m=\u001b[39m \u001b[38;5;28;43mself\u001b[39;49m\u001b[38;5;241;43m.\u001b[39;49m\u001b[43mcombine_docs\u001b[49m\u001b[43m(\u001b[49m\n\u001b[1;32m    138\u001b[0m \u001b[43m    \u001b[49m\u001b[43mdocs\u001b[49m\u001b[43m,\u001b[49m\u001b[43m \u001b[49m\u001b[43mcallbacks\u001b[49m\u001b[38;5;241;43m=\u001b[39;49m\u001b[43m_run_manager\u001b[49m\u001b[38;5;241;43m.\u001b[39;49m\u001b[43mget_child\u001b[49m\u001b[43m(\u001b[49m\u001b[43m)\u001b[49m\u001b[43m,\u001b[49m\u001b[43m \u001b[49m\u001b[38;5;241;43m*\u001b[39;49m\u001b[38;5;241;43m*\u001b[39;49m\u001b[43mother_keys\u001b[49m\n\u001b[1;32m    139\u001b[0m \u001b[43m\u001b[49m\u001b[43m)\u001b[49m\n\u001b[1;32m    140\u001b[0m extra_return_dict[\u001b[38;5;28mself\u001b[39m\u001b[38;5;241m.\u001b[39moutput_key] \u001b[38;5;241m=\u001b[39m output\n\u001b[1;32m    141\u001b[0m \u001b[38;5;28;01mreturn\u001b[39;00m extra_return_dict\n",
      "File \u001b[0;32m/opt/conda/lib/python3.10/site-packages/langchain/chains/combine_documents/map_reduce.py:237\u001b[0m, in \u001b[0;36mMapReduceDocumentsChain.combine_docs\u001b[0;34m(self, docs, token_max, callbacks, **kwargs)\u001b[0m\n\u001b[1;32m    231\u001b[0m question_result_key \u001b[38;5;241m=\u001b[39m \u001b[38;5;28mself\u001b[39m\u001b[38;5;241m.\u001b[39mllm_chain\u001b[38;5;241m.\u001b[39moutput_key\n\u001b[1;32m    232\u001b[0m result_docs \u001b[38;5;241m=\u001b[39m [\n\u001b[1;32m    233\u001b[0m     Document(page_content\u001b[38;5;241m=\u001b[39mr[question_result_key], metadata\u001b[38;5;241m=\u001b[39mdocs[i]\u001b[38;5;241m.\u001b[39mmetadata)\n\u001b[1;32m    234\u001b[0m     \u001b[38;5;66;03m# This uses metadata from the docs, and the textual results from `results`\u001b[39;00m\n\u001b[1;32m    235\u001b[0m     \u001b[38;5;28;01mfor\u001b[39;00m i, r \u001b[38;5;129;01min\u001b[39;00m \u001b[38;5;28menumerate\u001b[39m(map_results)\n\u001b[1;32m    236\u001b[0m ]\n\u001b[0;32m--> 237\u001b[0m result, extra_return_dict \u001b[38;5;241m=\u001b[39m \u001b[38;5;28;43mself\u001b[39;49m\u001b[38;5;241;43m.\u001b[39;49m\u001b[43mreduce_documents_chain\u001b[49m\u001b[38;5;241;43m.\u001b[39;49m\u001b[43mcombine_docs\u001b[49m\u001b[43m(\u001b[49m\n\u001b[1;32m    238\u001b[0m \u001b[43m    \u001b[49m\u001b[43mresult_docs\u001b[49m\u001b[43m,\u001b[49m\u001b[43m \u001b[49m\u001b[43mtoken_max\u001b[49m\u001b[38;5;241;43m=\u001b[39;49m\u001b[43mtoken_max\u001b[49m\u001b[43m,\u001b[49m\u001b[43m \u001b[49m\u001b[43mcallbacks\u001b[49m\u001b[38;5;241;43m=\u001b[39;49m\u001b[43mcallbacks\u001b[49m\u001b[43m,\u001b[49m\u001b[43m \u001b[49m\u001b[38;5;241;43m*\u001b[39;49m\u001b[38;5;241;43m*\u001b[39;49m\u001b[43mkwargs\u001b[49m\n\u001b[1;32m    239\u001b[0m \u001b[43m\u001b[49m\u001b[43m)\u001b[49m\n\u001b[1;32m    240\u001b[0m \u001b[38;5;28;01mif\u001b[39;00m \u001b[38;5;28mself\u001b[39m\u001b[38;5;241m.\u001b[39mreturn_intermediate_steps:\n\u001b[1;32m    241\u001b[0m     intermediate_steps \u001b[38;5;241m=\u001b[39m [r[question_result_key] \u001b[38;5;28;01mfor\u001b[39;00m r \u001b[38;5;129;01min\u001b[39;00m map_results]\n",
      "File \u001b[0;32m/opt/conda/lib/python3.10/site-packages/langchain/chains/combine_documents/reduce.py:243\u001b[0m, in \u001b[0;36mReduceDocumentsChain.combine_docs\u001b[0;34m(self, docs, token_max, callbacks, **kwargs)\u001b[0m\n\u001b[1;32m    221\u001b[0m \u001b[38;5;28;01mdef\u001b[39;00m \u001b[38;5;21mcombine_docs\u001b[39m(\n\u001b[1;32m    222\u001b[0m     \u001b[38;5;28mself\u001b[39m,\n\u001b[1;32m    223\u001b[0m     docs: List[Document],\n\u001b[0;32m   (...)\u001b[0m\n\u001b[1;32m    226\u001b[0m     \u001b[38;5;241m*\u001b[39m\u001b[38;5;241m*\u001b[39mkwargs: Any,\n\u001b[1;32m    227\u001b[0m ) \u001b[38;5;241m-\u001b[39m\u001b[38;5;241m>\u001b[39m Tuple[\u001b[38;5;28mstr\u001b[39m, \u001b[38;5;28mdict\u001b[39m]:\n\u001b[1;32m    228\u001b[0m \u001b[38;5;250m    \u001b[39m\u001b[38;5;124;03m\"\"\"Combine multiple documents recursively.\u001b[39;00m\n\u001b[1;32m    229\u001b[0m \n\u001b[1;32m    230\u001b[0m \u001b[38;5;124;03m    Args:\u001b[39;00m\n\u001b[0;32m   (...)\u001b[0m\n\u001b[1;32m    241\u001b[0m \u001b[38;5;124;03m        element returned is a dictionary of other keys to return.\u001b[39;00m\n\u001b[1;32m    242\u001b[0m \u001b[38;5;124;03m    \"\"\"\u001b[39;00m\n\u001b[0;32m--> 243\u001b[0m     result_docs, extra_return_dict \u001b[38;5;241m=\u001b[39m \u001b[38;5;28;43mself\u001b[39;49m\u001b[38;5;241;43m.\u001b[39;49m\u001b[43m_collapse\u001b[49m\u001b[43m(\u001b[49m\n\u001b[1;32m    244\u001b[0m \u001b[43m        \u001b[49m\u001b[43mdocs\u001b[49m\u001b[43m,\u001b[49m\u001b[43m \u001b[49m\u001b[43mtoken_max\u001b[49m\u001b[38;5;241;43m=\u001b[39;49m\u001b[43mtoken_max\u001b[49m\u001b[43m,\u001b[49m\u001b[43m \u001b[49m\u001b[43mcallbacks\u001b[49m\u001b[38;5;241;43m=\u001b[39;49m\u001b[43mcallbacks\u001b[49m\u001b[43m,\u001b[49m\u001b[43m \u001b[49m\u001b[38;5;241;43m*\u001b[39;49m\u001b[38;5;241;43m*\u001b[39;49m\u001b[43mkwargs\u001b[49m\n\u001b[1;32m    245\u001b[0m \u001b[43m    \u001b[49m\u001b[43m)\u001b[49m\n\u001b[1;32m    246\u001b[0m     \u001b[38;5;28;01mreturn\u001b[39;00m \u001b[38;5;28mself\u001b[39m\u001b[38;5;241m.\u001b[39mcombine_documents_chain\u001b[38;5;241m.\u001b[39mcombine_docs(\n\u001b[1;32m    247\u001b[0m         docs\u001b[38;5;241m=\u001b[39mresult_docs, callbacks\u001b[38;5;241m=\u001b[39mcallbacks, \u001b[38;5;241m*\u001b[39m\u001b[38;5;241m*\u001b[39mkwargs\n\u001b[1;32m    248\u001b[0m     )\n",
      "File \u001b[0;32m/opt/conda/lib/python3.10/site-packages/langchain/chains/combine_documents/reduce.py:288\u001b[0m, in \u001b[0;36mReduceDocumentsChain._collapse\u001b[0;34m(self, docs, token_max, callbacks, **kwargs)\u001b[0m\n\u001b[1;32m    286\u001b[0m result_docs \u001b[38;5;241m=\u001b[39m docs\n\u001b[1;32m    287\u001b[0m length_func \u001b[38;5;241m=\u001b[39m \u001b[38;5;28mself\u001b[39m\u001b[38;5;241m.\u001b[39mcombine_documents_chain\u001b[38;5;241m.\u001b[39mprompt_length\n\u001b[0;32m--> 288\u001b[0m num_tokens \u001b[38;5;241m=\u001b[39m \u001b[43mlength_func\u001b[49m\u001b[43m(\u001b[49m\u001b[43mresult_docs\u001b[49m\u001b[43m,\u001b[49m\u001b[43m \u001b[49m\u001b[38;5;241;43m*\u001b[39;49m\u001b[38;5;241;43m*\u001b[39;49m\u001b[43mkwargs\u001b[49m\u001b[43m)\u001b[49m\n\u001b[1;32m    290\u001b[0m \u001b[38;5;28;01mdef\u001b[39;00m \u001b[38;5;21m_collapse_docs_func\u001b[39m(docs: List[Document], \u001b[38;5;241m*\u001b[39m\u001b[38;5;241m*\u001b[39mkwargs: Any) \u001b[38;5;241m-\u001b[39m\u001b[38;5;241m>\u001b[39m \u001b[38;5;28mstr\u001b[39m:\n\u001b[1;32m    291\u001b[0m     \u001b[38;5;28;01mreturn\u001b[39;00m \u001b[38;5;28mself\u001b[39m\u001b[38;5;241m.\u001b[39m_collapse_chain\u001b[38;5;241m.\u001b[39mrun(\n\u001b[1;32m    292\u001b[0m         input_documents\u001b[38;5;241m=\u001b[39mdocs, callbacks\u001b[38;5;241m=\u001b[39mcallbacks, \u001b[38;5;241m*\u001b[39m\u001b[38;5;241m*\u001b[39mkwargs\n\u001b[1;32m    293\u001b[0m     )\n",
      "File \u001b[0;32m/opt/conda/lib/python3.10/site-packages/langchain/chains/combine_documents/stuff.py:226\u001b[0m, in \u001b[0;36mStuffDocumentsChain.prompt_length\u001b[0;34m(self, docs, **kwargs)\u001b[0m\n\u001b[1;32m    224\u001b[0m inputs \u001b[38;5;241m=\u001b[39m \u001b[38;5;28mself\u001b[39m\u001b[38;5;241m.\u001b[39m_get_inputs(docs, \u001b[38;5;241m*\u001b[39m\u001b[38;5;241m*\u001b[39mkwargs)\n\u001b[1;32m    225\u001b[0m prompt \u001b[38;5;241m=\u001b[39m \u001b[38;5;28mself\u001b[39m\u001b[38;5;241m.\u001b[39mllm_chain\u001b[38;5;241m.\u001b[39mprompt\u001b[38;5;241m.\u001b[39mformat(\u001b[38;5;241m*\u001b[39m\u001b[38;5;241m*\u001b[39minputs)\n\u001b[0;32m--> 226\u001b[0m \u001b[38;5;28;01mreturn\u001b[39;00m \u001b[38;5;28;43mself\u001b[39;49m\u001b[38;5;241;43m.\u001b[39;49m\u001b[43mllm_chain\u001b[49m\u001b[38;5;241;43m.\u001b[39;49m\u001b[43m_get_num_tokens\u001b[49m\u001b[43m(\u001b[49m\u001b[43mprompt\u001b[49m\u001b[43m)\u001b[49m\n",
      "File \u001b[0;32m/opt/conda/lib/python3.10/site-packages/langchain/chains/llm.py:384\u001b[0m, in \u001b[0;36mLLMChain._get_num_tokens\u001b[0;34m(self, text)\u001b[0m\n\u001b[1;32m    383\u001b[0m \u001b[38;5;28;01mdef\u001b[39;00m \u001b[38;5;21m_get_num_tokens\u001b[39m(\u001b[38;5;28mself\u001b[39m, text: \u001b[38;5;28mstr\u001b[39m) \u001b[38;5;241m-\u001b[39m\u001b[38;5;241m>\u001b[39m \u001b[38;5;28mint\u001b[39m:\n\u001b[0;32m--> 384\u001b[0m     \u001b[38;5;28;01mreturn\u001b[39;00m \u001b[43m_get_language_model\u001b[49m\u001b[43m(\u001b[49m\u001b[38;5;28;43mself\u001b[39;49m\u001b[38;5;241;43m.\u001b[39;49m\u001b[43mllm\u001b[49m\u001b[43m)\u001b[49m\u001b[38;5;241;43m.\u001b[39;49m\u001b[43mget_num_tokens\u001b[49m\u001b[43m(\u001b[49m\u001b[43mtext\u001b[49m\u001b[43m)\u001b[49m\n",
      "File \u001b[0;32m/opt/conda/lib/python3.10/site-packages/langchain_community/llms/bedrock.py:783\u001b[0m, in \u001b[0;36mBedrock.get_num_tokens\u001b[0;34m(self, text)\u001b[0m\n\u001b[1;32m    781\u001b[0m \u001b[38;5;28;01mdef\u001b[39;00m \u001b[38;5;21mget_num_tokens\u001b[39m(\u001b[38;5;28mself\u001b[39m, text: \u001b[38;5;28mstr\u001b[39m) \u001b[38;5;241m-\u001b[39m\u001b[38;5;241m>\u001b[39m \u001b[38;5;28mint\u001b[39m:\n\u001b[1;32m    782\u001b[0m     \u001b[38;5;28;01mif\u001b[39;00m \u001b[38;5;28mself\u001b[39m\u001b[38;5;241m.\u001b[39m_model_is_anthropic:\n\u001b[0;32m--> 783\u001b[0m         \u001b[38;5;28;01mreturn\u001b[39;00m \u001b[43mget_num_tokens_anthropic\u001b[49m\u001b[43m(\u001b[49m\u001b[43mtext\u001b[49m\u001b[43m)\u001b[49m\n\u001b[1;32m    784\u001b[0m     \u001b[38;5;28;01melse\u001b[39;00m:\n\u001b[1;32m    785\u001b[0m         \u001b[38;5;28;01mreturn\u001b[39;00m \u001b[38;5;28msuper\u001b[39m()\u001b[38;5;241m.\u001b[39mget_num_tokens(text)\n",
      "File \u001b[0;32m/opt/conda/lib/python3.10/site-packages/langchain_community/utilities/anthropic.py:18\u001b[0m, in \u001b[0;36mget_num_tokens_anthropic\u001b[0;34m(text)\u001b[0m\n\u001b[1;32m     16\u001b[0m \u001b[38;5;28;01mdef\u001b[39;00m \u001b[38;5;21mget_num_tokens_anthropic\u001b[39m(text: \u001b[38;5;28mstr\u001b[39m) \u001b[38;5;241m-\u001b[39m\u001b[38;5;241m>\u001b[39m \u001b[38;5;28mint\u001b[39m:\n\u001b[1;32m     17\u001b[0m \u001b[38;5;250m    \u001b[39m\u001b[38;5;124;03m\"\"\"Get the number of tokens in a string of text.\"\"\"\u001b[39;00m\n\u001b[0;32m---> 18\u001b[0m     client \u001b[38;5;241m=\u001b[39m \u001b[43m_get_anthropic_client\u001b[49m\u001b[43m(\u001b[49m\u001b[43m)\u001b[49m\n\u001b[1;32m     19\u001b[0m     \u001b[38;5;28;01mreturn\u001b[39;00m client\u001b[38;5;241m.\u001b[39mcount_tokens(text\u001b[38;5;241m=\u001b[39mtext)\n",
      "File \u001b[0;32m/opt/conda/lib/python3.10/site-packages/langchain_community/utilities/anthropic.py:8\u001b[0m, in \u001b[0;36m_get_anthropic_client\u001b[0;34m()\u001b[0m\n\u001b[1;32m      6\u001b[0m     \u001b[38;5;28;01mimport\u001b[39;00m \u001b[38;5;21;01manthropic\u001b[39;00m\n\u001b[1;32m      7\u001b[0m \u001b[38;5;28;01mexcept\u001b[39;00m \u001b[38;5;167;01mImportError\u001b[39;00m:\n\u001b[0;32m----> 8\u001b[0m     \u001b[38;5;28;01mraise\u001b[39;00m \u001b[38;5;167;01mImportError\u001b[39;00m(\n\u001b[1;32m      9\u001b[0m         \u001b[38;5;124m\"\u001b[39m\u001b[38;5;124mCould not import anthropic python package. \u001b[39m\u001b[38;5;124m\"\u001b[39m\n\u001b[1;32m     10\u001b[0m         \u001b[38;5;124m\"\u001b[39m\u001b[38;5;124mThis is needed in order to accurately tokenize the text \u001b[39m\u001b[38;5;124m\"\u001b[39m\n\u001b[1;32m     11\u001b[0m         \u001b[38;5;124m\"\u001b[39m\u001b[38;5;124mfor anthropic models. Please install it with `pip install anthropic`.\u001b[39m\u001b[38;5;124m\"\u001b[39m\n\u001b[1;32m     12\u001b[0m     )\n\u001b[1;32m     13\u001b[0m \u001b[38;5;28;01mreturn\u001b[39;00m anthropic\u001b[38;5;241m.\u001b[39mAnthropic()\n",
      "\u001b[0;31mImportError\u001b[0m: Could not import anthropic python package. This is needed in order to accurately tokenize the text for anthropic models. Please install it with `pip install anthropic`."
     ]
    }
   ],
   "source": [
    "from langchain.chains.summarize import load_summarize_chain\n",
    "\n",
    "summary_chain = load_summarize_chain(llm=bedrock_llm, chain_type='map_reduce',\n",
    "                                     verbose=False # Set verbose=True if you want to see the prompts being used\n",
    "                                    )\n",
    "output = summary_chain.run(document)"
   ]
  },
  {
   "cell_type": "code",
   "execution_count": null,
   "id": "1cca6a42-918a-4935-b237-59e2dc1fb477",
   "metadata": {
    "tags": []
   },
   "outputs": [],
   "source": [
    "print(output.strip())"
   ]
  },
  {
   "cell_type": "markdown",
   "id": "8ac62d59-5a42-4546-b26a-641db1992cfc",
   "metadata": {},
   "source": [
    "## 3. Standardization\n",
    "---\n",
    "\n",
    "Let's try to standardize dates from our discharge summary document. Note that the document has dates in `DD-MON-YYYY` format, and we want to convert all of those dates to `MM/DD/YYYY` format. We will use simple prompt engineering techniques to show Claude some example and have it generate the output in a JSON format (Key value pair)."
   ]
  },
  {
   "cell_type": "code",
   "execution_count": null,
   "id": "1c1f1f72-4c9c-4f7e-ad10-0e85bf69d509",
   "metadata": {
    "tags": []
   },
   "outputs": [],
   "source": [
    "from langchain.document_loaders import AmazonTextractPDFLoader\n",
    "from langchain.llms import Bedrock\n",
    "from langchain.prompts import PromptTemplate\n",
    "from langchain.chains import LLMChain\n",
    "\n",
    "loader = AmazonTextractPDFLoader(\"./samples/discharge-summary.png\")\n",
    "document = loader.load()\n",
    "\n",
    "bedrock_llm = Bedrock(client=bedrock, model_id=\"anthropic.claude-v1\")\n",
    "\n",
    "template1 = \"\"\"\n",
    "\n",
    "Given a full document, answer the question and format the output in the format specified. Skip any preamble text and just generate the JSON.\n",
    "\n",
    "<format>\n",
    "{{\n",
    "  \"key_name\":\"key_value\"\n",
    "}}\n",
    "</format>\n",
    "<document>{doc_text}</document>\n",
    "<question>{question}</question>\"\"\"\n",
    "\n",
    "template2 = \"\"\"\n",
    "\n",
    "Given a JSON document, format the dates in the value fields precisely in the provided format. Skip any preamble text and just generate the JSON.\n",
    "\n",
    "<format>DD/MM/YYYY</format>\n",
    "<json_document>{json_doc}</json_document>\n",
    "\"\"\"\n",
    "\n",
    "\n",
    "prompt1 = PromptTemplate(template=template1, input_variables=[\"doc_text\", \"question\"])\n",
    "llm_chain = LLMChain(prompt=prompt1, llm=bedrock_llm, verbose=True)\n",
    "\n",
    "prompt2 = PromptTemplate(template=template2, input_variables=[\"json_doc\"])\n",
    "llm_chain2 = LLMChain(prompt=prompt2, llm=bedrock_llm, verbose=True)\n",
    "\n",
    "chain = ( \n",
    "    llm_chain \n",
    "    | {'json_doc': lambda x: x['text'] }  \n",
    "    | llm_chain2\n",
    ")\n",
    "\n",
    "std_op = chain.invoke({ \"doc_text\": document[0].page_content, \n",
    "                        \"question\": \"Can you give me the patient admitted and discharge dates?\"})\n",
    "\n",
    "print(std_op['text'])"
   ]
  },
  {
   "cell_type": "markdown",
   "id": "64c53095-d4ed-4732-9846-e8e427d01711",
   "metadata": {},
   "source": [
    "And we get a nicely formatted JSON output"
   ]
  },
  {
   "cell_type": "markdown",
   "id": "77b249e4-8028-4998-8d4a-7f72d7855b38",
   "metadata": {},
   "source": [
    "## 4. Spell check and corrections\n",
    "---\n",
    "\n",
    "Perform grammatical and spelling corrections on text extracted from a hand written document."
   ]
  },
  {
   "cell_type": "code",
   "execution_count": null,
   "id": "c9e3bd16-665a-4cd1-b520-46bfb39e0736",
   "metadata": {
    "tags": []
   },
   "outputs": [],
   "source": [
    "from langchain.document_loaders import AmazonTextractPDFLoader\n",
    "from langchain.llms import Bedrock\n",
    "from langchain.prompts import PromptTemplate\n",
    "from langchain.chains import LLMChain\n",
    "\n",
    "loader = AmazonTextractPDFLoader(\"./samples/hand_written_note.pdf\")\n",
    "document = loader.load()\n",
    "\n",
    "template = \"\"\"\n",
    "\n",
    "Given a detailed 'Document', perform spelling and grammatical corrections. Ensure the output is coherent, polished, and free from errors. Skip any preamble text and give the answer.\n",
    "\n",
    "<document>{doc_text}</<document>\n",
    "<answer>\n",
    "\"\"\"\n",
    "\n",
    "prompt = PromptTemplate(template=template, input_variables=[\"doc_text\"])\n",
    "llm = Bedrock(client=bedrock, model_id=\"anthropic.claude-v1\")\n",
    "llm_chain = LLMChain(prompt=prompt, llm=llm)\n",
    "\n",
    "try:\n",
    "    txt = document[0].page_content\n",
    "    std_op = llm_chain.run({\"doc_text\": txt})\n",
    "    \n",
    "    print(\"Extracted text\")\n",
    "    print(\"==============\")\n",
    "    print(txt)\n",
    "\n",
    "    print(\"\\nCorrected text\")\n",
    "    print(\"==============\")\n",
    "    print(std_op.strip())\n",
    "    print(\"\\n\")\n",
    "except Exception as e:\n",
    "    print(str(e))"
   ]
  },
  {
   "cell_type": "markdown",
   "id": "497cb636-9ea2-4f3f-aa6e-a856574a2a17",
   "metadata": {},
   "source": [
    "## Cleanup\n",
    "---\n",
    "Let's delete the pdf file we uploaded earlier."
   ]
  },
  {
   "cell_type": "code",
   "execution_count": null,
   "id": "5bc2d322-c0b9-4eec-b544-edf6d761b15b",
   "metadata": {
    "tags": []
   },
   "outputs": [],
   "source": [
    "!aws s3api delete-object --bucket {data_bucket} --key bedrock-sample/health_plan.pdf"
   ]
  },
  {
   "cell_type": "code",
   "execution_count": null,
   "id": "969fbd21-e126-4bde-9907-29d30ec0c9bb",
   "metadata": {},
   "outputs": [],
   "source": []
  }
 ],
 "metadata": {
  "availableInstances": [
   {
    "_defaultOrder": 0,
    "_isFastLaunch": true,
    "category": "General purpose",
    "gpuNum": 0,
    "hideHardwareSpecs": false,
    "memoryGiB": 4,
    "name": "ml.t3.medium",
    "vcpuNum": 2
   },
   {
    "_defaultOrder": 1,
    "_isFastLaunch": false,
    "category": "General purpose",
    "gpuNum": 0,
    "hideHardwareSpecs": false,
    "memoryGiB": 8,
    "name": "ml.t3.large",
    "vcpuNum": 2
   },
   {
    "_defaultOrder": 2,
    "_isFastLaunch": false,
    "category": "General purpose",
    "gpuNum": 0,
    "hideHardwareSpecs": false,
    "memoryGiB": 16,
    "name": "ml.t3.xlarge",
    "vcpuNum": 4
   },
   {
    "_defaultOrder": 3,
    "_isFastLaunch": false,
    "category": "General purpose",
    "gpuNum": 0,
    "hideHardwareSpecs": false,
    "memoryGiB": 32,
    "name": "ml.t3.2xlarge",
    "vcpuNum": 8
   },
   {
    "_defaultOrder": 4,
    "_isFastLaunch": true,
    "category": "General purpose",
    "gpuNum": 0,
    "hideHardwareSpecs": false,
    "memoryGiB": 8,
    "name": "ml.m5.large",
    "vcpuNum": 2
   },
   {
    "_defaultOrder": 5,
    "_isFastLaunch": false,
    "category": "General purpose",
    "gpuNum": 0,
    "hideHardwareSpecs": false,
    "memoryGiB": 16,
    "name": "ml.m5.xlarge",
    "vcpuNum": 4
   },
   {
    "_defaultOrder": 6,
    "_isFastLaunch": false,
    "category": "General purpose",
    "gpuNum": 0,
    "hideHardwareSpecs": false,
    "memoryGiB": 32,
    "name": "ml.m5.2xlarge",
    "vcpuNum": 8
   },
   {
    "_defaultOrder": 7,
    "_isFastLaunch": false,
    "category": "General purpose",
    "gpuNum": 0,
    "hideHardwareSpecs": false,
    "memoryGiB": 64,
    "name": "ml.m5.4xlarge",
    "vcpuNum": 16
   },
   {
    "_defaultOrder": 8,
    "_isFastLaunch": false,
    "category": "General purpose",
    "gpuNum": 0,
    "hideHardwareSpecs": false,
    "memoryGiB": 128,
    "name": "ml.m5.8xlarge",
    "vcpuNum": 32
   },
   {
    "_defaultOrder": 9,
    "_isFastLaunch": false,
    "category": "General purpose",
    "gpuNum": 0,
    "hideHardwareSpecs": false,
    "memoryGiB": 192,
    "name": "ml.m5.12xlarge",
    "vcpuNum": 48
   },
   {
    "_defaultOrder": 10,
    "_isFastLaunch": false,
    "category": "General purpose",
    "gpuNum": 0,
    "hideHardwareSpecs": false,
    "memoryGiB": 256,
    "name": "ml.m5.16xlarge",
    "vcpuNum": 64
   },
   {
    "_defaultOrder": 11,
    "_isFastLaunch": false,
    "category": "General purpose",
    "gpuNum": 0,
    "hideHardwareSpecs": false,
    "memoryGiB": 384,
    "name": "ml.m5.24xlarge",
    "vcpuNum": 96
   },
   {
    "_defaultOrder": 12,
    "_isFastLaunch": false,
    "category": "General purpose",
    "gpuNum": 0,
    "hideHardwareSpecs": false,
    "memoryGiB": 8,
    "name": "ml.m5d.large",
    "vcpuNum": 2
   },
   {
    "_defaultOrder": 13,
    "_isFastLaunch": false,
    "category": "General purpose",
    "gpuNum": 0,
    "hideHardwareSpecs": false,
    "memoryGiB": 16,
    "name": "ml.m5d.xlarge",
    "vcpuNum": 4
   },
   {
    "_defaultOrder": 14,
    "_isFastLaunch": false,
    "category": "General purpose",
    "gpuNum": 0,
    "hideHardwareSpecs": false,
    "memoryGiB": 32,
    "name": "ml.m5d.2xlarge",
    "vcpuNum": 8
   },
   {
    "_defaultOrder": 15,
    "_isFastLaunch": false,
    "category": "General purpose",
    "gpuNum": 0,
    "hideHardwareSpecs": false,
    "memoryGiB": 64,
    "name": "ml.m5d.4xlarge",
    "vcpuNum": 16
   },
   {
    "_defaultOrder": 16,
    "_isFastLaunch": false,
    "category": "General purpose",
    "gpuNum": 0,
    "hideHardwareSpecs": false,
    "memoryGiB": 128,
    "name": "ml.m5d.8xlarge",
    "vcpuNum": 32
   },
   {
    "_defaultOrder": 17,
    "_isFastLaunch": false,
    "category": "General purpose",
    "gpuNum": 0,
    "hideHardwareSpecs": false,
    "memoryGiB": 192,
    "name": "ml.m5d.12xlarge",
    "vcpuNum": 48
   },
   {
    "_defaultOrder": 18,
    "_isFastLaunch": false,
    "category": "General purpose",
    "gpuNum": 0,
    "hideHardwareSpecs": false,
    "memoryGiB": 256,
    "name": "ml.m5d.16xlarge",
    "vcpuNum": 64
   },
   {
    "_defaultOrder": 19,
    "_isFastLaunch": false,
    "category": "General purpose",
    "gpuNum": 0,
    "hideHardwareSpecs": false,
    "memoryGiB": 384,
    "name": "ml.m5d.24xlarge",
    "vcpuNum": 96
   },
   {
    "_defaultOrder": 20,
    "_isFastLaunch": false,
    "category": "General purpose",
    "gpuNum": 0,
    "hideHardwareSpecs": true,
    "memoryGiB": 0,
    "name": "ml.geospatial.interactive",
    "supportedImageNames": [
     "sagemaker-geospatial-v1-0"
    ],
    "vcpuNum": 0
   },
   {
    "_defaultOrder": 21,
    "_isFastLaunch": true,
    "category": "Compute optimized",
    "gpuNum": 0,
    "hideHardwareSpecs": false,
    "memoryGiB": 4,
    "name": "ml.c5.large",
    "vcpuNum": 2
   },
   {
    "_defaultOrder": 22,
    "_isFastLaunch": false,
    "category": "Compute optimized",
    "gpuNum": 0,
    "hideHardwareSpecs": false,
    "memoryGiB": 8,
    "name": "ml.c5.xlarge",
    "vcpuNum": 4
   },
   {
    "_defaultOrder": 23,
    "_isFastLaunch": false,
    "category": "Compute optimized",
    "gpuNum": 0,
    "hideHardwareSpecs": false,
    "memoryGiB": 16,
    "name": "ml.c5.2xlarge",
    "vcpuNum": 8
   },
   {
    "_defaultOrder": 24,
    "_isFastLaunch": false,
    "category": "Compute optimized",
    "gpuNum": 0,
    "hideHardwareSpecs": false,
    "memoryGiB": 32,
    "name": "ml.c5.4xlarge",
    "vcpuNum": 16
   },
   {
    "_defaultOrder": 25,
    "_isFastLaunch": false,
    "category": "Compute optimized",
    "gpuNum": 0,
    "hideHardwareSpecs": false,
    "memoryGiB": 72,
    "name": "ml.c5.9xlarge",
    "vcpuNum": 36
   },
   {
    "_defaultOrder": 26,
    "_isFastLaunch": false,
    "category": "Compute optimized",
    "gpuNum": 0,
    "hideHardwareSpecs": false,
    "memoryGiB": 96,
    "name": "ml.c5.12xlarge",
    "vcpuNum": 48
   },
   {
    "_defaultOrder": 27,
    "_isFastLaunch": false,
    "category": "Compute optimized",
    "gpuNum": 0,
    "hideHardwareSpecs": false,
    "memoryGiB": 144,
    "name": "ml.c5.18xlarge",
    "vcpuNum": 72
   },
   {
    "_defaultOrder": 28,
    "_isFastLaunch": false,
    "category": "Compute optimized",
    "gpuNum": 0,
    "hideHardwareSpecs": false,
    "memoryGiB": 192,
    "name": "ml.c5.24xlarge",
    "vcpuNum": 96
   },
   {
    "_defaultOrder": 29,
    "_isFastLaunch": true,
    "category": "Accelerated computing",
    "gpuNum": 1,
    "hideHardwareSpecs": false,
    "memoryGiB": 16,
    "name": "ml.g4dn.xlarge",
    "vcpuNum": 4
   },
   {
    "_defaultOrder": 30,
    "_isFastLaunch": false,
    "category": "Accelerated computing",
    "gpuNum": 1,
    "hideHardwareSpecs": false,
    "memoryGiB": 32,
    "name": "ml.g4dn.2xlarge",
    "vcpuNum": 8
   },
   {
    "_defaultOrder": 31,
    "_isFastLaunch": false,
    "category": "Accelerated computing",
    "gpuNum": 1,
    "hideHardwareSpecs": false,
    "memoryGiB": 64,
    "name": "ml.g4dn.4xlarge",
    "vcpuNum": 16
   },
   {
    "_defaultOrder": 32,
    "_isFastLaunch": false,
    "category": "Accelerated computing",
    "gpuNum": 1,
    "hideHardwareSpecs": false,
    "memoryGiB": 128,
    "name": "ml.g4dn.8xlarge",
    "vcpuNum": 32
   },
   {
    "_defaultOrder": 33,
    "_isFastLaunch": false,
    "category": "Accelerated computing",
    "gpuNum": 4,
    "hideHardwareSpecs": false,
    "memoryGiB": 192,
    "name": "ml.g4dn.12xlarge",
    "vcpuNum": 48
   },
   {
    "_defaultOrder": 34,
    "_isFastLaunch": false,
    "category": "Accelerated computing",
    "gpuNum": 1,
    "hideHardwareSpecs": false,
    "memoryGiB": 256,
    "name": "ml.g4dn.16xlarge",
    "vcpuNum": 64
   },
   {
    "_defaultOrder": 35,
    "_isFastLaunch": false,
    "category": "Accelerated computing",
    "gpuNum": 1,
    "hideHardwareSpecs": false,
    "memoryGiB": 61,
    "name": "ml.p3.2xlarge",
    "vcpuNum": 8
   },
   {
    "_defaultOrder": 36,
    "_isFastLaunch": false,
    "category": "Accelerated computing",
    "gpuNum": 4,
    "hideHardwareSpecs": false,
    "memoryGiB": 244,
    "name": "ml.p3.8xlarge",
    "vcpuNum": 32
   },
   {
    "_defaultOrder": 37,
    "_isFastLaunch": false,
    "category": "Accelerated computing",
    "gpuNum": 8,
    "hideHardwareSpecs": false,
    "memoryGiB": 488,
    "name": "ml.p3.16xlarge",
    "vcpuNum": 64
   },
   {
    "_defaultOrder": 38,
    "_isFastLaunch": false,
    "category": "Accelerated computing",
    "gpuNum": 8,
    "hideHardwareSpecs": false,
    "memoryGiB": 768,
    "name": "ml.p3dn.24xlarge",
    "vcpuNum": 96
   },
   {
    "_defaultOrder": 39,
    "_isFastLaunch": false,
    "category": "Memory Optimized",
    "gpuNum": 0,
    "hideHardwareSpecs": false,
    "memoryGiB": 16,
    "name": "ml.r5.large",
    "vcpuNum": 2
   },
   {
    "_defaultOrder": 40,
    "_isFastLaunch": false,
    "category": "Memory Optimized",
    "gpuNum": 0,
    "hideHardwareSpecs": false,
    "memoryGiB": 32,
    "name": "ml.r5.xlarge",
    "vcpuNum": 4
   },
   {
    "_defaultOrder": 41,
    "_isFastLaunch": false,
    "category": "Memory Optimized",
    "gpuNum": 0,
    "hideHardwareSpecs": false,
    "memoryGiB": 64,
    "name": "ml.r5.2xlarge",
    "vcpuNum": 8
   },
   {
    "_defaultOrder": 42,
    "_isFastLaunch": false,
    "category": "Memory Optimized",
    "gpuNum": 0,
    "hideHardwareSpecs": false,
    "memoryGiB": 128,
    "name": "ml.r5.4xlarge",
    "vcpuNum": 16
   },
   {
    "_defaultOrder": 43,
    "_isFastLaunch": false,
    "category": "Memory Optimized",
    "gpuNum": 0,
    "hideHardwareSpecs": false,
    "memoryGiB": 256,
    "name": "ml.r5.8xlarge",
    "vcpuNum": 32
   },
   {
    "_defaultOrder": 44,
    "_isFastLaunch": false,
    "category": "Memory Optimized",
    "gpuNum": 0,
    "hideHardwareSpecs": false,
    "memoryGiB": 384,
    "name": "ml.r5.12xlarge",
    "vcpuNum": 48
   },
   {
    "_defaultOrder": 45,
    "_isFastLaunch": false,
    "category": "Memory Optimized",
    "gpuNum": 0,
    "hideHardwareSpecs": false,
    "memoryGiB": 512,
    "name": "ml.r5.16xlarge",
    "vcpuNum": 64
   },
   {
    "_defaultOrder": 46,
    "_isFastLaunch": false,
    "category": "Memory Optimized",
    "gpuNum": 0,
    "hideHardwareSpecs": false,
    "memoryGiB": 768,
    "name": "ml.r5.24xlarge",
    "vcpuNum": 96
   },
   {
    "_defaultOrder": 47,
    "_isFastLaunch": false,
    "category": "Accelerated computing",
    "gpuNum": 1,
    "hideHardwareSpecs": false,
    "memoryGiB": 16,
    "name": "ml.g5.xlarge",
    "vcpuNum": 4
   },
   {
    "_defaultOrder": 48,
    "_isFastLaunch": false,
    "category": "Accelerated computing",
    "gpuNum": 1,
    "hideHardwareSpecs": false,
    "memoryGiB": 32,
    "name": "ml.g5.2xlarge",
    "vcpuNum": 8
   },
   {
    "_defaultOrder": 49,
    "_isFastLaunch": false,
    "category": "Accelerated computing",
    "gpuNum": 1,
    "hideHardwareSpecs": false,
    "memoryGiB": 64,
    "name": "ml.g5.4xlarge",
    "vcpuNum": 16
   },
   {
    "_defaultOrder": 50,
    "_isFastLaunch": false,
    "category": "Accelerated computing",
    "gpuNum": 1,
    "hideHardwareSpecs": false,
    "memoryGiB": 128,
    "name": "ml.g5.8xlarge",
    "vcpuNum": 32
   },
   {
    "_defaultOrder": 51,
    "_isFastLaunch": false,
    "category": "Accelerated computing",
    "gpuNum": 1,
    "hideHardwareSpecs": false,
    "memoryGiB": 256,
    "name": "ml.g5.16xlarge",
    "vcpuNum": 64
   },
   {
    "_defaultOrder": 52,
    "_isFastLaunch": false,
    "category": "Accelerated computing",
    "gpuNum": 4,
    "hideHardwareSpecs": false,
    "memoryGiB": 192,
    "name": "ml.g5.12xlarge",
    "vcpuNum": 48
   },
   {
    "_defaultOrder": 53,
    "_isFastLaunch": false,
    "category": "Accelerated computing",
    "gpuNum": 4,
    "hideHardwareSpecs": false,
    "memoryGiB": 384,
    "name": "ml.g5.24xlarge",
    "vcpuNum": 96
   },
   {
    "_defaultOrder": 54,
    "_isFastLaunch": false,
    "category": "Accelerated computing",
    "gpuNum": 8,
    "hideHardwareSpecs": false,
    "memoryGiB": 768,
    "name": "ml.g5.48xlarge",
    "vcpuNum": 192
   },
   {
    "_defaultOrder": 55,
    "_isFastLaunch": false,
    "category": "Accelerated computing",
    "gpuNum": 8,
    "hideHardwareSpecs": false,
    "memoryGiB": 1152,
    "name": "ml.p4d.24xlarge",
    "vcpuNum": 96
   },
   {
    "_defaultOrder": 56,
    "_isFastLaunch": false,
    "category": "Accelerated computing",
    "gpuNum": 8,
    "hideHardwareSpecs": false,
    "memoryGiB": 1152,
    "name": "ml.p4de.24xlarge",
    "vcpuNum": 96
   }
  ],
  "instance_type": "ml.t3.medium",
  "kernelspec": {
   "display_name": "Python 3 (ipykernel)",
   "language": "python",
   "name": "python3"
  },
  "language_info": {
   "codemirror_mode": {
    "name": "ipython",
    "version": 3
   },
   "file_extension": ".py",
   "mimetype": "text/x-python",
   "name": "python",
   "nbconvert_exporter": "python",
   "pygments_lexer": "ipython3",
   "version": "3.10.13"
  }
 },
 "nbformat": 4,
 "nbformat_minor": 5
}
